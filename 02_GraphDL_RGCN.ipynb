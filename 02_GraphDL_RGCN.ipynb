{
 "cells": [
  {
   "cell_type": "code",
   "execution_count": 1,
   "metadata": {},
   "outputs": [],
   "source": [
    "import numpy as np\n",
    "import pandas as pd\n",
    "import json"
   ]
  },
  {
   "cell_type": "code",
   "execution_count": 2,
   "metadata": {
    "scrolled": true
   },
   "outputs": [],
   "source": [
    "user_id = pd.read_csv('./data/01_data_processed/user_id.csv')\n",
    "advertising_id_id = pd.read_csv('./data/01_data_processed/advertising_id_id.csv')\n",
    "ipv4_id = pd.read_csv('./data/01_data_processed/ipv4_id.csv')\n",
    "wifimac_id = pd.read_csv('./data/01_data_processed/wifimac_id.csv')\n",
    "wifi_list_id = pd.read_csv('./data/01_data_processed/wifi_list_id.csv')"
   ]
  },
  {
   "cell_type": "code",
   "execution_count": 3,
   "metadata": {},
   "outputs": [
    {
     "name": "stdout",
     "output_type": "stream",
     "text": [
      "(3505, 7)\n"
     ]
    },
    {
     "data": {
      "text/html": [
       "<div>\n",
       "<style scoped>\n",
       "    .dataframe tbody tr th:only-of-type {\n",
       "        vertical-align: middle;\n",
       "    }\n",
       "\n",
       "    .dataframe tbody tr th {\n",
       "        vertical-align: top;\n",
       "    }\n",
       "\n",
       "    .dataframe thead th {\n",
       "        text-align: right;\n",
       "    }\n",
       "</style>\n",
       "<table border=\"1\" class=\"dataframe\">\n",
       "  <thead>\n",
       "    <tr style=\"text-align: right;\">\n",
       "      <th></th>\n",
       "      <th>user_id</th>\n",
       "      <th>customer_id</th>\n",
       "      <th>android_id</th>\n",
       "      <th>trans_time</th>\n",
       "      <th>ipv4</th>\n",
       "      <th>ipv4_flag</th>\n",
       "      <th>ipv4_id</th>\n",
       "    </tr>\n",
       "  </thead>\n",
       "  <tbody>\n",
       "    <tr>\n",
       "      <td>0</td>\n",
       "      <td>2</td>\n",
       "      <td>4284127</td>\n",
       "      <td>538ba9d7767afa93</td>\n",
       "      <td>2020-08-01 09:15:17</td>\n",
       "      <td>100.64.146.176</td>\n",
       "      <td>1</td>\n",
       "      <td>3852</td>\n",
       "    </tr>\n",
       "    <tr>\n",
       "      <td>1</td>\n",
       "      <td>9</td>\n",
       "      <td>4277377</td>\n",
       "      <td>4e69ebabcdae2648</td>\n",
       "      <td>2020-07-30 06:40:02</td>\n",
       "      <td>198.51.100.111</td>\n",
       "      <td>1</td>\n",
       "      <td>260</td>\n",
       "    </tr>\n",
       "    <tr>\n",
       "      <td>2</td>\n",
       "      <td>11</td>\n",
       "      <td>4036890</td>\n",
       "      <td>f4ea2dcc07b90f8a</td>\n",
       "      <td>2020-07-06 09:55:26</td>\n",
       "      <td>100.65.255.181</td>\n",
       "      <td>1</td>\n",
       "      <td>1176</td>\n",
       "    </tr>\n",
       "    <tr>\n",
       "      <td>3</td>\n",
       "      <td>12</td>\n",
       "      <td>4273337</td>\n",
       "      <td>0eb0a8a94faac478</td>\n",
       "      <td>2020-07-25 08:55:23</td>\n",
       "      <td>102.140.144.202</td>\n",
       "      <td>1</td>\n",
       "      <td>5144</td>\n",
       "    </tr>\n",
       "    <tr>\n",
       "      <td>4</td>\n",
       "      <td>13</td>\n",
       "      <td>4290405</td>\n",
       "      <td>e3e443eac08e12a5</td>\n",
       "      <td>2020-08-06 09:55:12</td>\n",
       "      <td>100.87.162.23</td>\n",
       "      <td>1</td>\n",
       "      <td>7123</td>\n",
       "    </tr>\n",
       "  </tbody>\n",
       "</table>\n",
       "</div>"
      ],
      "text/plain": [
       "   user_id  customer_id        android_id           trans_time  \\\n",
       "0        2      4284127  538ba9d7767afa93  2020-08-01 09:15:17   \n",
       "1        9      4277377  4e69ebabcdae2648  2020-07-30 06:40:02   \n",
       "2       11      4036890  f4ea2dcc07b90f8a  2020-07-06 09:55:26   \n",
       "3       12      4273337  0eb0a8a94faac478  2020-07-25 08:55:23   \n",
       "4       13      4290405  e3e443eac08e12a5  2020-08-06 09:55:12   \n",
       "\n",
       "              ipv4  ipv4_flag  ipv4_id  \n",
       "0   100.64.146.176          1     3852  \n",
       "1   198.51.100.111          1      260  \n",
       "2   100.65.255.181          1     1176  \n",
       "3  102.140.144.202          1     5144  \n",
       "4    100.87.162.23          1     7123  "
      ]
     },
     "execution_count": 3,
     "metadata": {},
     "output_type": "execute_result"
    }
   ],
   "source": [
    "user_ipv4 = pd.read_csv('./data/01_data_processed/user_ipv4.csv')\n",
    "print(user_ipv4.shape)\n",
    "user_ipv4.head()"
   ]
  },
  {
   "cell_type": "code",
   "execution_count": 4,
   "metadata": {
    "scrolled": false
   },
   "outputs": [
    {
     "name": "stdout",
     "output_type": "stream",
     "text": [
      "(10809, 6)\n"
     ]
    },
    {
     "data": {
      "text/html": [
       "<div>\n",
       "<style scoped>\n",
       "    .dataframe tbody tr th:only-of-type {\n",
       "        vertical-align: middle;\n",
       "    }\n",
       "\n",
       "    .dataframe tbody tr th {\n",
       "        vertical-align: top;\n",
       "    }\n",
       "\n",
       "    .dataframe thead th {\n",
       "        text-align: right;\n",
       "    }\n",
       "</style>\n",
       "<table border=\"1\" class=\"dataframe\">\n",
       "  <thead>\n",
       "    <tr style=\"text-align: right;\">\n",
       "      <th></th>\n",
       "      <th>user_id</th>\n",
       "      <th>customer_id</th>\n",
       "      <th>android_id</th>\n",
       "      <th>trans_time</th>\n",
       "      <th>advertising_id</th>\n",
       "      <th>advertising_id_id</th>\n",
       "    </tr>\n",
       "  </thead>\n",
       "  <tbody>\n",
       "    <tr>\n",
       "      <td>0</td>\n",
       "      <td>0</td>\n",
       "      <td>862201</td>\n",
       "      <td>b9f7a362982aaee0</td>\n",
       "      <td>2020-07-13 18:05:08</td>\n",
       "      <td>b338ee49-b92f-4bcb-b9d4-13a95c6fbe95</td>\n",
       "      <td>29630</td>\n",
       "    </tr>\n",
       "    <tr>\n",
       "      <td>1</td>\n",
       "      <td>1</td>\n",
       "      <td>4271399</td>\n",
       "      <td>0461d79919186b9d</td>\n",
       "      <td>2020-07-27 10:25:27</td>\n",
       "      <td>a2eb4023-adc1-41b1-a4b9-4f19d0dc1786</td>\n",
       "      <td>24793</td>\n",
       "    </tr>\n",
       "    <tr>\n",
       "      <td>2</td>\n",
       "      <td>2</td>\n",
       "      <td>4284127</td>\n",
       "      <td>538ba9d7767afa93</td>\n",
       "      <td>2020-08-01 09:15:17</td>\n",
       "      <td>98bbe114-65ad-4774-8527-fc1560c54e37</td>\n",
       "      <td>14694</td>\n",
       "    </tr>\n",
       "    <tr>\n",
       "      <td>3</td>\n",
       "      <td>3</td>\n",
       "      <td>4237165</td>\n",
       "      <td>c5bdf3f3623df3b5</td>\n",
       "      <td>2020-07-03 13:05:09</td>\n",
       "      <td>eb3ba78a-0678-4f55-bef0-f3a02870119f</td>\n",
       "      <td>13348</td>\n",
       "    </tr>\n",
       "    <tr>\n",
       "      <td>4</td>\n",
       "      <td>5</td>\n",
       "      <td>4280368</td>\n",
       "      <td>dcaa8cbed54e3224</td>\n",
       "      <td>2020-07-29 15:05:31</td>\n",
       "      <td>2654a4de-a296-42f0-8b1c-5cab5d051346</td>\n",
       "      <td>28677</td>\n",
       "    </tr>\n",
       "  </tbody>\n",
       "</table>\n",
       "</div>"
      ],
      "text/plain": [
       "   user_id  customer_id        android_id           trans_time  \\\n",
       "0        0       862201  b9f7a362982aaee0  2020-07-13 18:05:08   \n",
       "1        1      4271399  0461d79919186b9d  2020-07-27 10:25:27   \n",
       "2        2      4284127  538ba9d7767afa93  2020-08-01 09:15:17   \n",
       "3        3      4237165  c5bdf3f3623df3b5  2020-07-03 13:05:09   \n",
       "4        5      4280368  dcaa8cbed54e3224  2020-07-29 15:05:31   \n",
       "\n",
       "                         advertising_id  advertising_id_id  \n",
       "0  b338ee49-b92f-4bcb-b9d4-13a95c6fbe95              29630  \n",
       "1  a2eb4023-adc1-41b1-a4b9-4f19d0dc1786              24793  \n",
       "2  98bbe114-65ad-4774-8527-fc1560c54e37              14694  \n",
       "3  eb3ba78a-0678-4f55-bef0-f3a02870119f              13348  \n",
       "4  2654a4de-a296-42f0-8b1c-5cab5d051346              28677  "
      ]
     },
     "execution_count": 4,
     "metadata": {},
     "output_type": "execute_result"
    }
   ],
   "source": [
    "user_advertising = pd.read_csv('./data/01_data_processed/user_advertising_id.csv')\n",
    "print(user_advertising.shape)\n",
    "user_advertising.head()"
   ]
  },
  {
   "cell_type": "code",
   "execution_count": 5,
   "metadata": {},
   "outputs": [
    {
     "name": "stdout",
     "output_type": "stream",
     "text": [
      "(15405, 6)\n"
     ]
    },
    {
     "data": {
      "text/html": [
       "<div>\n",
       "<style scoped>\n",
       "    .dataframe tbody tr th:only-of-type {\n",
       "        vertical-align: middle;\n",
       "    }\n",
       "\n",
       "    .dataframe tbody tr th {\n",
       "        vertical-align: top;\n",
       "    }\n",
       "\n",
       "    .dataframe thead th {\n",
       "        text-align: right;\n",
       "    }\n",
       "</style>\n",
       "<table border=\"1\" class=\"dataframe\">\n",
       "  <thead>\n",
       "    <tr style=\"text-align: right;\">\n",
       "      <th></th>\n",
       "      <th>user_id</th>\n",
       "      <th>customer_id</th>\n",
       "      <th>android_id</th>\n",
       "      <th>trans_time</th>\n",
       "      <th>wifi_list</th>\n",
       "      <th>wifi_list_id</th>\n",
       "    </tr>\n",
       "  </thead>\n",
       "  <tbody>\n",
       "    <tr>\n",
       "      <td>0</td>\n",
       "      <td>6</td>\n",
       "      <td>4202015</td>\n",
       "      <td>4d4a3c1035c44bd7</td>\n",
       "      <td>2020-06-27 06:35:10</td>\n",
       "      <td>f0:8c:fb:29:13:f0</td>\n",
       "      <td>12210</td>\n",
       "    </tr>\n",
       "    <tr>\n",
       "      <td>1</td>\n",
       "      <td>6</td>\n",
       "      <td>4202015</td>\n",
       "      <td>4d4a3c1035c44bd7</td>\n",
       "      <td>2020-06-27 06:35:10</td>\n",
       "      <td>74:5b:c5:43:1f:9c</td>\n",
       "      <td>12211</td>\n",
       "    </tr>\n",
       "    <tr>\n",
       "      <td>2</td>\n",
       "      <td>6</td>\n",
       "      <td>4202015</td>\n",
       "      <td>4d4a3c1035c44bd7</td>\n",
       "      <td>2020-06-27 06:35:10</td>\n",
       "      <td>0c:98:38:a9:f0:6d</td>\n",
       "      <td>12212</td>\n",
       "    </tr>\n",
       "    <tr>\n",
       "      <td>3</td>\n",
       "      <td>6</td>\n",
       "      <td>4202015</td>\n",
       "      <td>4d4a3c1035c44bd7</td>\n",
       "      <td>2020-06-27 06:35:10</td>\n",
       "      <td>9a:c8:b8:90:5c:9b</td>\n",
       "      <td>12213</td>\n",
       "    </tr>\n",
       "    <tr>\n",
       "      <td>4</td>\n",
       "      <td>6</td>\n",
       "      <td>4202015</td>\n",
       "      <td>4d4a3c1035c44bd7</td>\n",
       "      <td>2020-06-27 06:35:10</td>\n",
       "      <td>0e:a8:a7:5d:ca:34</td>\n",
       "      <td>12214</td>\n",
       "    </tr>\n",
       "  </tbody>\n",
       "</table>\n",
       "</div>"
      ],
      "text/plain": [
       "   user_id  customer_id        android_id           trans_time  \\\n",
       "0        6      4202015  4d4a3c1035c44bd7  2020-06-27 06:35:10   \n",
       "1        6      4202015  4d4a3c1035c44bd7  2020-06-27 06:35:10   \n",
       "2        6      4202015  4d4a3c1035c44bd7  2020-06-27 06:35:10   \n",
       "3        6      4202015  4d4a3c1035c44bd7  2020-06-27 06:35:10   \n",
       "4        6      4202015  4d4a3c1035c44bd7  2020-06-27 06:35:10   \n",
       "\n",
       "           wifi_list  wifi_list_id  \n",
       "0  f0:8c:fb:29:13:f0         12210  \n",
       "1  74:5b:c5:43:1f:9c         12211  \n",
       "2  0c:98:38:a9:f0:6d         12212  \n",
       "3  9a:c8:b8:90:5c:9b         12213  \n",
       "4  0e:a8:a7:5d:ca:34         12214  "
      ]
     },
     "execution_count": 5,
     "metadata": {},
     "output_type": "execute_result"
    }
   ],
   "source": [
    "user_wifi_list = pd.read_csv('./data/01_data_processed/user_wifi_list.csv')\n",
    "print(user_wifi_list.shape)\n",
    "user_wifi_list.head()"
   ]
  },
  {
   "cell_type": "code",
   "execution_count": 6,
   "metadata": {},
   "outputs": [
    {
     "name": "stdout",
     "output_type": "stream",
     "text": [
      "(12581, 6)\n"
     ]
    },
    {
     "data": {
      "text/html": [
       "<div>\n",
       "<style scoped>\n",
       "    .dataframe tbody tr th:only-of-type {\n",
       "        vertical-align: middle;\n",
       "    }\n",
       "\n",
       "    .dataframe tbody tr th {\n",
       "        vertical-align: top;\n",
       "    }\n",
       "\n",
       "    .dataframe thead th {\n",
       "        text-align: right;\n",
       "    }\n",
       "</style>\n",
       "<table border=\"1\" class=\"dataframe\">\n",
       "  <thead>\n",
       "    <tr style=\"text-align: right;\">\n",
       "      <th></th>\n",
       "      <th>user_id</th>\n",
       "      <th>customer_id</th>\n",
       "      <th>android_id</th>\n",
       "      <th>trans_time</th>\n",
       "      <th>wifimac</th>\n",
       "      <th>wifimac_id</th>\n",
       "    </tr>\n",
       "  </thead>\n",
       "  <tbody>\n",
       "    <tr>\n",
       "      <td>0</td>\n",
       "      <td>0</td>\n",
       "      <td>862201</td>\n",
       "      <td>b9f7a362982aaee0</td>\n",
       "      <td>2020-07-13 18:05:08</td>\n",
       "      <td>70:B7:AA:A8:69:D5</td>\n",
       "      <td>32183</td>\n",
       "    </tr>\n",
       "    <tr>\n",
       "      <td>1</td>\n",
       "      <td>1</td>\n",
       "      <td>4271399</td>\n",
       "      <td>0461d79919186b9d</td>\n",
       "      <td>2020-07-27 10:25:27</td>\n",
       "      <td>4C:66:41:50:BC:E1</td>\n",
       "      <td>27064</td>\n",
       "    </tr>\n",
       "    <tr>\n",
       "      <td>2</td>\n",
       "      <td>2</td>\n",
       "      <td>4284127</td>\n",
       "      <td>538ba9d7767afa93</td>\n",
       "      <td>2020-08-01 09:15:17</td>\n",
       "      <td>1C:C3:EB:49:8E:1D</td>\n",
       "      <td>16092</td>\n",
       "    </tr>\n",
       "    <tr>\n",
       "      <td>3</td>\n",
       "      <td>3</td>\n",
       "      <td>4237165</td>\n",
       "      <td>c5bdf3f3623df3b5</td>\n",
       "      <td>2020-07-03 13:05:09</td>\n",
       "      <td>C4:0B:CB:E6:CB:48</td>\n",
       "      <td>14634</td>\n",
       "    </tr>\n",
       "    <tr>\n",
       "      <td>4</td>\n",
       "      <td>4</td>\n",
       "      <td>4091456</td>\n",
       "      <td>164d8123ead96078</td>\n",
       "      <td>2020-06-12 19:05:11</td>\n",
       "      <td>0C:98:38:39:EE:B9</td>\n",
       "      <td>18024</td>\n",
       "    </tr>\n",
       "  </tbody>\n",
       "</table>\n",
       "</div>"
      ],
      "text/plain": [
       "   user_id  customer_id        android_id           trans_time  \\\n",
       "0        0       862201  b9f7a362982aaee0  2020-07-13 18:05:08   \n",
       "1        1      4271399  0461d79919186b9d  2020-07-27 10:25:27   \n",
       "2        2      4284127  538ba9d7767afa93  2020-08-01 09:15:17   \n",
       "3        3      4237165  c5bdf3f3623df3b5  2020-07-03 13:05:09   \n",
       "4        4      4091456  164d8123ead96078  2020-06-12 19:05:11   \n",
       "\n",
       "             wifimac  wifimac_id  \n",
       "0  70:B7:AA:A8:69:D5       32183  \n",
       "1  4C:66:41:50:BC:E1       27064  \n",
       "2  1C:C3:EB:49:8E:1D       16092  \n",
       "3  C4:0B:CB:E6:CB:48       14634  \n",
       "4  0C:98:38:39:EE:B9       18024  "
      ]
     },
     "execution_count": 6,
     "metadata": {},
     "output_type": "execute_result"
    }
   ],
   "source": [
    "user_wifimac = pd.read_csv('./data/01_data_processed/user_wifimac.csv')\n",
    "print(user_wifimac.shape)\n",
    "user_wifimac.head()"
   ]
  },
  {
   "cell_type": "code",
   "execution_count": 7,
   "metadata": {
    "scrolled": true
   },
   "outputs": [
    {
     "data": {
      "text/html": [
       "<div>\n",
       "<style scoped>\n",
       "    .dataframe tbody tr th:only-of-type {\n",
       "        vertical-align: middle;\n",
       "    }\n",
       "\n",
       "    .dataframe tbody tr th {\n",
       "        vertical-align: top;\n",
       "    }\n",
       "\n",
       "    .dataframe thead th {\n",
       "        text-align: right;\n",
       "    }\n",
       "</style>\n",
       "<table border=\"1\" class=\"dataframe\">\n",
       "  <thead>\n",
       "    <tr style=\"text-align: right;\">\n",
       "      <th></th>\n",
       "      <th>customer_id</th>\n",
       "      <th>android_id</th>\n",
       "      <th>trans_time</th>\n",
       "      <th>advertising_id</th>\n",
       "      <th>advertising_id_id</th>\n",
       "    </tr>\n",
       "  </thead>\n",
       "  <tbody>\n",
       "    <tr>\n",
       "      <td>0</td>\n",
       "      <td>4369522</td>\n",
       "      <td>5de5ef4eecf17a38</td>\n",
       "      <td>2020-09-04 10:10:39</td>\n",
       "      <td>2be593f8-ca79-4ccd-84ef-fa0d4784025d</td>\n",
       "      <td>0</td>\n",
       "    </tr>\n",
       "    <tr>\n",
       "      <td>1</td>\n",
       "      <td>4316582</td>\n",
       "      <td>a286d61dc7f9af36</td>\n",
       "      <td>2020-08-16 12:10:17</td>\n",
       "      <td>bbd89a24-9783-41bf-ad1e-2eb4b9122ce8</td>\n",
       "      <td>1</td>\n",
       "    </tr>\n",
       "    <tr>\n",
       "      <td>2</td>\n",
       "      <td>4156671</td>\n",
       "      <td>af0ea8e0e1d3572a</td>\n",
       "      <td>2020-07-18 12:55:04</td>\n",
       "      <td>0f409318-5597-4a72-af9a-815be8dfb6cd</td>\n",
       "      <td>2</td>\n",
       "    </tr>\n",
       "    <tr>\n",
       "      <td>3</td>\n",
       "      <td>4384691</td>\n",
       "      <td>2e95643fac726119</td>\n",
       "      <td>2020-09-17 05:01:30</td>\n",
       "      <td>b5e408e3-904d-4381-b419-412b9c302643</td>\n",
       "      <td>3</td>\n",
       "    </tr>\n",
       "    <tr>\n",
       "      <td>4</td>\n",
       "      <td>588378</td>\n",
       "      <td>205d074387ab374c</td>\n",
       "      <td>2020-08-14 08:20:09</td>\n",
       "      <td>1abe3869-8a81-4b7d-953a-0edc59b28cad</td>\n",
       "      <td>4</td>\n",
       "    </tr>\n",
       "    <tr>\n",
       "      <td>...</td>\n",
       "      <td>...</td>\n",
       "      <td>...</td>\n",
       "      <td>...</td>\n",
       "      <td>...</td>\n",
       "      <td>...</td>\n",
       "    </tr>\n",
       "    <tr>\n",
       "      <td>31408</td>\n",
       "      <td>4324559</td>\n",
       "      <td>b6a0941fb73b7ecf</td>\n",
       "      <td>2020-08-22 12:05:06</td>\n",
       "      <td>140fc77c-4d1d-49a8-bf4d-05519e5ea761</td>\n",
       "      <td>31398</td>\n",
       "    </tr>\n",
       "    <tr>\n",
       "      <td>31409</td>\n",
       "      <td>4259987</td>\n",
       "      <td>71f0681cf14d9087</td>\n",
       "      <td>2020-07-17 09:25:09</td>\n",
       "      <td>b95db811-c088-430c-964c-881708b1aa37</td>\n",
       "      <td>31399</td>\n",
       "    </tr>\n",
       "    <tr>\n",
       "      <td>31410</td>\n",
       "      <td>4313188</td>\n",
       "      <td>9383e879e9a0de66</td>\n",
       "      <td>2020-08-15 10:35:16</td>\n",
       "      <td>b0d10d9b-e0d5-4c22-a7d7-7a240bed62fb</td>\n",
       "      <td>31400</td>\n",
       "    </tr>\n",
       "    <tr>\n",
       "      <td>31411</td>\n",
       "      <td>4263403</td>\n",
       "      <td>31e68ba078f2a57b</td>\n",
       "      <td>2020-07-22 16:55:06</td>\n",
       "      <td>241bbb87-e799-4f43-8283-5446a15ba158</td>\n",
       "      <td>31401</td>\n",
       "    </tr>\n",
       "    <tr>\n",
       "      <td>31412</td>\n",
       "      <td>4229481</td>\n",
       "      <td>e780107129aba9d</td>\n",
       "      <td>2020-06-27 10:05:10</td>\n",
       "      <td>aa3e3783-a79f-4d5c-97b8-78c31b1b2ebb</td>\n",
       "      <td>31402</td>\n",
       "    </tr>\n",
       "  </tbody>\n",
       "</table>\n",
       "<p>31413 rows × 5 columns</p>\n",
       "</div>"
      ],
      "text/plain": [
       "       customer_id        android_id           trans_time  \\\n",
       "0          4369522  5de5ef4eecf17a38  2020-09-04 10:10:39   \n",
       "1          4316582  a286d61dc7f9af36  2020-08-16 12:10:17   \n",
       "2          4156671  af0ea8e0e1d3572a  2020-07-18 12:55:04   \n",
       "3          4384691  2e95643fac726119  2020-09-17 05:01:30   \n",
       "4           588378  205d074387ab374c  2020-08-14 08:20:09   \n",
       "...            ...               ...                  ...   \n",
       "31408      4324559  b6a0941fb73b7ecf  2020-08-22 12:05:06   \n",
       "31409      4259987  71f0681cf14d9087  2020-07-17 09:25:09   \n",
       "31410      4313188  9383e879e9a0de66  2020-08-15 10:35:16   \n",
       "31411      4263403  31e68ba078f2a57b  2020-07-22 16:55:06   \n",
       "31412      4229481   e780107129aba9d  2020-06-27 10:05:10   \n",
       "\n",
       "                             advertising_id  advertising_id_id  \n",
       "0      2be593f8-ca79-4ccd-84ef-fa0d4784025d                  0  \n",
       "1      bbd89a24-9783-41bf-ad1e-2eb4b9122ce8                  1  \n",
       "2      0f409318-5597-4a72-af9a-815be8dfb6cd                  2  \n",
       "3      b5e408e3-904d-4381-b419-412b9c302643                  3  \n",
       "4      1abe3869-8a81-4b7d-953a-0edc59b28cad                  4  \n",
       "...                                     ...                ...  \n",
       "31408  140fc77c-4d1d-49a8-bf4d-05519e5ea761              31398  \n",
       "31409  b95db811-c088-430c-964c-881708b1aa37              31399  \n",
       "31410  b0d10d9b-e0d5-4c22-a7d7-7a240bed62fb              31400  \n",
       "31411  241bbb87-e799-4f43-8283-5446a15ba158              31401  \n",
       "31412  aa3e3783-a79f-4d5c-97b8-78c31b1b2ebb              31402  \n",
       "\n",
       "[31413 rows x 5 columns]"
      ]
     },
     "execution_count": 7,
     "metadata": {},
     "output_type": "execute_result"
    }
   ],
   "source": [
    "advertising_id_id"
   ]
  },
  {
   "cell_type": "code",
   "execution_count": 8,
   "metadata": {},
   "outputs": [
    {
     "name": "stderr",
     "output_type": "stream",
     "text": [
      "Using backend: pytorch\n",
      "D:\\Program Files\\anaconda3\\lib\\site-packages\\dgl\\base.py:45: DGLWarning: Detected an old version of PyTorch. Suggest using torch>=1.5.0 for the best experience.\n",
      "  return warnings.warn(message, category=category, stacklevel=1)\n"
     ]
    }
   ],
   "source": [
    "import dgl\n",
    "import torch as th\n",
    "\n",
    "# n_user = user_id.drop_duplicates('user_id').shape[0]\n",
    "# n_advertising_id = advertising_id_id.drop_duplicates('advertising_id_id').shape[0]\n",
    "# n_ipv4 = ipv4_id.drop_duplicates('ipv4_id').shape[0]\n",
    "# n_wifimac = wifimac_id.drop_duplicates('wifimac_id').shape[0]\n",
    "# n_wifi_list = wifi_list_id.drop_duplicates('wifi_list_id').shape[0]\n",
    "# num_nodes_dict = {'user_id': n_user, 'ipv4_id': n_ipv4, 'advertising_id_id': n_advertising_id,\n",
    "#                   'wifimac_id':n_wifimac,'wifi_list_id':n_wifi_list}\n",
    "graph_data = {\n",
    "#    ('user', 'interacts', 'ipv4'): (th.tensor([0, 1]), th.tensor([1, 2])),\n",
    "#    ('drug', 'interacts', 'gene'): (th.tensor([0, 1]), th.tensor([2, 3])),\n",
    "   ('user_id', 'link', 'ipv4_id'): (user_ipv4['user_id'].to_numpy(), user_ipv4['ipv4_id'].to_numpy()),\n",
    "   ('ipv4_id', 'linked-by', 'user_id'): (user_ipv4['ipv4_id'].to_numpy(), user_ipv4['user_id'].to_numpy()),\n",
    "   ('user_id', 'correlate', 'advertising_id_id'): (user_advertising['user_id'].to_numpy(), user_advertising['advertising_id_id'].to_numpy()),\n",
    "   ('advertising_id_id', 'correlated-by', 'user_id'): (user_advertising['advertising_id_id'].to_numpy(), user_advertising['user_id'].to_numpy()),\n",
    "   ('user_id', 'discover', 'wifi_list_id'): (user_wifi_list['user_id'].to_numpy(), user_wifi_list['wifi_list_id'].to_numpy()),\n",
    "   ('wifi_list_id', 'discovered-by', 'user_id'): (user_wifi_list['wifi_list_id'].to_numpy(), user_wifi_list['user_id'].to_numpy()),\n",
    "   ('user_id', 'link_1', 'wifimac_id'): (user_wifimac['user_id'].to_numpy(), user_wifimac['wifimac_id'].to_numpy()),\n",
    "   ('wifimac_id', 'linked-by_1', 'user_id'): (user_wifimac['wifimac_id'].to_numpy(), user_wifimac['user_id'].to_numpy())\n",
    "}\n",
    "g = dgl.heterograph(graph_data)\n",
    "# g = dgl.heterograph(graph_data,num_nodes_dict)"
   ]
  },
  {
   "cell_type": "code",
   "execution_count": 9,
   "metadata": {},
   "outputs": [
    {
     "data": {
      "text/plain": [
       "Graph(num_nodes={'advertising_id_id': 31403, 'ipv4_id': 8491, 'user_id': 12107, 'wifi_list_id': 57620, 'wifimac_id': 34029},\n",
       "      num_edges={('advertising_id_id', 'correlated-by', 'user_id'): 10809, ('ipv4_id', 'linked-by', 'user_id'): 3505, ('user_id', 'correlate', 'advertising_id_id'): 10809, ('user_id', 'discover', 'wifi_list_id'): 15405, ('user_id', 'link', 'ipv4_id'): 3505, ('user_id', 'link_1', 'wifimac_id'): 12581, ('wifi_list_id', 'discovered-by', 'user_id'): 15405, ('wifimac_id', 'linked-by_1', 'user_id'): 12581},\n",
       "      metagraph=[('advertising_id_id', 'user_id', 'correlated-by'), ('user_id', 'advertising_id_id', 'correlate'), ('user_id', 'wifi_list_id', 'discover'), ('user_id', 'ipv4_id', 'link'), ('user_id', 'wifimac_id', 'link_1'), ('ipv4_id', 'user_id', 'linked-by'), ('wifi_list_id', 'user_id', 'discovered-by'), ('wifimac_id', 'user_id', 'linked-by_1')])"
      ]
     },
     "execution_count": 9,
     "metadata": {},
     "output_type": "execute_result"
    }
   ],
   "source": [
    "g"
   ]
  },
  {
   "cell_type": "code",
   "execution_count": 10,
   "metadata": {},
   "outputs": [],
   "source": [
    "# g = dgl.compact_graphs(g)\n",
    "# g"
   ]
  },
  {
   "cell_type": "code",
   "execution_count": 11,
   "metadata": {},
   "outputs": [],
   "source": [
    "# import networkx as nx\n",
    "# # Since the actual graph is undirected, we convert it for visualization\n",
    "# # purpose.\n",
    "# sub_g = dgl.edge_type_subgraph(g, [('user_id', 'link', 'ipv4_id'),\n",
    "#                                    ])\n",
    "# nx_G = dgl.to_homogeneous(sub_g).to_networkx()\n",
    "# # Kamada-Kawaii layout usually looks pretty for arbitrary graphs\n",
    "# pos = nx.kamada_kawai_layout(nx_G)\n",
    "# nx.draw(nx_G, pos, with_labels=False, node_color=[[.7, .7, .7]])"
   ]
  },
  {
   "cell_type": "code",
   "execution_count": 12,
   "metadata": {},
   "outputs": [],
   "source": [
    "import torch \n",
    "import torch.nn as nn\n",
    "import torch.nn.functional as F"
   ]
  },
  {
   "cell_type": "code",
   "execution_count": 13,
   "metadata": {
    "scrolled": true
   },
   "outputs": [
    {
     "name": "stdout",
     "output_type": "stream",
     "text": [
      "advertising_id_id correlated-by user_id\n",
      "ipv4_id linked-by user_id\n",
      "user_id correlate advertising_id_id\n",
      "user_id discover wifi_list_id\n",
      "user_id link ipv4_id\n",
      "user_id link_1 wifimac_id\n",
      "wifi_list_id discovered-by user_id\n",
      "wifimac_id linked-by_1 user_id\n"
     ]
    }
   ],
   "source": [
    "# Assign features\n",
    "embedding_size = 16\n",
    "n_user = g.num_nodes('user_id')\n",
    "n_advertising_id = g.num_nodes('advertising_id_id')\n",
    "n_ipv4 = g.num_nodes('ipv4_id')\n",
    "n_wifimac = g.num_nodes('wifimac_id')\n",
    "n_wifi_list = g.num_nodes('wifi_list_id')\n",
    "\n",
    "node_features = {}\n",
    "for c_etype in g.canonical_etypes:\n",
    "    srctype,etype,dsttype = c_etype\n",
    "    print(srctype,etype,dsttype)\n",
    "    g.nodes[srctype].data['feature'] = nn.Embedding(g.num_nodes(srctype),16).weight\n",
    "#     g.nodes[srctype].data['h_%s' % etype] = nn.Embedding(g.num_nodes(srctype),16).weight\n",
    "\n",
    "# g.nodes['user_id'].data['h_embedding'] = nn.Embedding(n_user,embedding_size).weight\n",
    "# g.nodes['advertising_id_id'].data['h_embedding'] = nn.Embedding(n_advertising_id,embedding_size).weight\n",
    "# g.nodes['ipv4_id'].data['h_embedding'] = nn.Embedding(n_ipv4,embedding_size).weight\n",
    "# g.nodes['wifimac_id'].data['h_embedding'] = nn.Embedding(n_wifimac,embedding_size).weight\n",
    "# g.nodes['wifi_list_id'].data['h_embedding'] = nn.Embedding(n_wifi_list,embedding_size).weight\n",
    "\n",
    "# Assign label\n",
    "g.nodes['user_id'].data['label'] = torch.tensor(user_id['target'].values)\n",
    "\n",
    "#split train,valid,test\n",
    "g.nodes['user_id'].data['train_mask'] = torch.zeros(n_user, dtype=torch.bool).bernoulli(0.6)\n",
    "g.nodes['user_id'].data['valid_mask'] = torch.zeros(n_user, dtype=torch.bool).bernoulli(0.2)\n",
    "g.nodes['user_id'].data['test_mask'] = torch.zeros(n_user, dtype=torch.bool).bernoulli(0.2)"
   ]
  },
  {
   "cell_type": "code",
   "execution_count": 14,
   "metadata": {},
   "outputs": [],
   "source": [
    "from torch.utils.data import TensorDataset, DataLoader"
   ]
  },
  {
   "cell_type": "code",
   "execution_count": 15,
   "metadata": {},
   "outputs": [],
   "source": [
    "# import dgl.nn.pytorch as dglnn\n",
    "# ??dglnn.HeteroGraphConv\n",
    "# conv = dglnn.HeteroGraphConv({\n",
    "#          'follows' : dglnn.GraphConv(...),\n",
    "#          'plays' : dglnn.GraphConv(...),\n",
    "#          'sells' : dglnn.SAGEConv(...)},\n",
    "#          aggregate='sum')"
   ]
  },
  {
   "cell_type": "code",
   "execution_count": 16,
   "metadata": {},
   "outputs": [
    {
     "data": {
      "text/plain": [
       "[('advertising_id_id', 'correlated-by', 'user_id'),\n",
       " ('ipv4_id', 'linked-by', 'user_id'),\n",
       " ('user_id', 'correlate', 'advertising_id_id'),\n",
       " ('user_id', 'discover', 'wifi_list_id'),\n",
       " ('user_id', 'link', 'ipv4_id'),\n",
       " ('user_id', 'link_1', 'wifimac_id'),\n",
       " ('wifi_list_id', 'discovered-by', 'user_id'),\n",
       " ('wifimac_id', 'linked-by_1', 'user_id')]"
      ]
     },
     "execution_count": 16,
     "metadata": {},
     "output_type": "execute_result"
    }
   ],
   "source": [
    "g.canonical_etypes"
   ]
  },
  {
   "cell_type": "code",
   "execution_count": 17,
   "metadata": {
    "scrolled": true
   },
   "outputs": [],
   "source": []
  },
  {
   "cell_type": "code",
   "execution_count": null,
   "metadata": {},
   "outputs": [],
   "source": []
  },
  {
   "cell_type": "code",
   "execution_count": null,
   "metadata": {},
   "outputs": [],
   "source": []
  },
  {
   "cell_type": "code",
   "execution_count": null,
   "metadata": {},
   "outputs": [],
   "source": []
  },
  {
   "cell_type": "code",
   "execution_count": null,
   "metadata": {},
   "outputs": [],
   "source": []
  },
  {
   "cell_type": "code",
   "execution_count": 18,
   "metadata": {},
   "outputs": [],
   "source": [
    "# ??nn.ParameterDict"
   ]
  },
  {
   "cell_type": "code",
   "execution_count": 19,
   "metadata": {},
   "outputs": [],
   "source": [
    "import dgl.function as fn\n",
    "\n",
    "class HeteroRGCNLayer(nn.Module):\n",
    "    def __init__(self, in_size, out_size, etypes):\n",
    "        super(HeteroRGCNLayer, self).__init__()\n",
    "        # W_r for each relation\n",
    "        self.weight = nn.ModuleDict({\n",
    "                name : nn.Linear(in_size, out_size) for name in etypes\n",
    "            })\n",
    "\n",
    "    def forward(self, G, feat_dict):\n",
    "        # The input is a dictionary of node features for each type\n",
    "        funcs = {}\n",
    "        for srctype, etype, dsttype in G.canonical_etypes:\n",
    "            # 计算每一类etype的 W_r * h\n",
    "            Wh = self.weight[etype](feat_dict[srctype])\n",
    "            # Save it in graph for message passing\n",
    "            G.nodes[srctype].data['Wh_%s' % etype] = Wh\n",
    "            # 消息函数 copy_u: 将源节点的特征聚合到'm'中; reduce函数: 将'm'求均值赋值给 'h'\n",
    "            funcs[etype] = (fn.copy_u('Wh_%s' % etype, 'm'), fn.mean('m', 'h'))\n",
    "        # Trigger message passing of multiple types.\n",
    "        # The first argument is the message passing functions for each relation.\n",
    "        # The second one is the type wise reducer, could be \"sum\", \"max\",\n",
    "        # \"min\", \"mean\", \"stack\"\n",
    "        G.multi_update_all(funcs, 'sum')\n",
    "        # return the updated node feature dictionary\n",
    "        return {ntype : G.nodes[ntype].data['h'] for ntype in G.ntypes}"
   ]
  },
  {
   "cell_type": "code",
   "execution_count": 20,
   "metadata": {},
   "outputs": [],
   "source": [
    "class HeteroRGCN(nn.Module):\n",
    "    def __init__(self, G, in_size, hidden_size, out_size):\n",
    "        super(HeteroRGCN, self).__init__()\n",
    "        # Use trainable node embeddings as featureless inputs.\n",
    "        # nn.Parameter:将一个不可训练的类型Tensor转换成可以训练的类型\n",
    "#         embed_dict = {ntype : nn.Parameter(torch.Tensor(G.number_of_nodes(ntype), in_size))\n",
    "#                       for ntype in G.ntypes}\n",
    "#         for key, embed in embed_dict.items():\n",
    "#             nn.init.xavier_uniform_(embed)\n",
    "#         self.embed = nn.ParameterDict(embed_dict)\n",
    "        # create layers\n",
    "        self.layer1 = HeteroRGCNLayer(in_size, hidden_size, G.etypes)\n",
    "        self.layer2 = HeteroRGCNLayer(hidden_size, out_size, G.etypes)\n",
    "\n",
    "#     def forward(self, G,self.embed):\n",
    "    def forward(self, G,inputs):\n",
    "        h_dict = self.layer1(G, inputs)\n",
    "        h_dict = {k : F.leaky_relu(h) for k, h in h_dict.items()}\n",
    "        h_dict = self.layer2(G, h_dict)\n",
    "        # get logits\n",
    "        return h_dict['user_id']"
   ]
  },
  {
   "cell_type": "code",
   "execution_count": 21,
   "metadata": {
    "scrolled": false
   },
   "outputs": [
    {
     "name": "stdout",
     "output_type": "stream",
     "text": [
      "Loss 0.5339, Train Acc 0.8039, Val Acc 0.8226 (Best 0.8226), Test Acc 0.8123 (Best 0.8123)\n",
      "Loss 0.4279, Train Acc 0.8615, Val Acc 0.8781 (Best 0.8781), Test Acc 0.8628 (Best 0.8628)\n",
      "Loss 0.4231, Train Acc 0.8616, Val Acc 0.8781 (Best 0.8781), Test Acc 0.8628 (Best 0.8628)\n",
      "Loss 0.4156, Train Acc 0.8616, Val Acc 0.8781 (Best 0.8781), Test Acc 0.8628 (Best 0.8628)\n",
      "Loss 0.4083, Train Acc 0.8615, Val Acc 0.8781 (Best 0.8781), Test Acc 0.8620 (Best 0.8628)\n",
      "Loss 0.4060, Train Acc 0.8615, Val Acc 0.8781 (Best 0.8781), Test Acc 0.8616 (Best 0.8628)\n",
      "Loss 0.4024, Train Acc 0.8615, Val Acc 0.8781 (Best 0.8781), Test Acc 0.8620 (Best 0.8628)\n",
      "Loss 0.4002, Train Acc 0.8615, Val Acc 0.8781 (Best 0.8781), Test Acc 0.8620 (Best 0.8628)\n",
      "Loss 0.3986, Train Acc 0.8616, Val Acc 0.8781 (Best 0.8781), Test Acc 0.8624 (Best 0.8628)\n",
      "Loss 0.3967, Train Acc 0.8615, Val Acc 0.8781 (Best 0.8781), Test Acc 0.8616 (Best 0.8628)\n",
      "Loss 0.3951, Train Acc 0.8616, Val Acc 0.8777 (Best 0.8781), Test Acc 0.8616 (Best 0.8628)\n",
      "Loss 0.3935, Train Acc 0.8615, Val Acc 0.8777 (Best 0.8781), Test Acc 0.8616 (Best 0.8628)\n",
      "Loss 0.3918, Train Acc 0.8615, Val Acc 0.8777 (Best 0.8781), Test Acc 0.8616 (Best 0.8628)\n",
      "Loss 0.3902, Train Acc 0.8615, Val Acc 0.8777 (Best 0.8781), Test Acc 0.8611 (Best 0.8628)\n",
      "Loss 0.3885, Train Acc 0.8615, Val Acc 0.8777 (Best 0.8781), Test Acc 0.8611 (Best 0.8628)\n",
      "Loss 0.3869, Train Acc 0.8612, Val Acc 0.8773 (Best 0.8781), Test Acc 0.8611 (Best 0.8628)\n",
      "Loss 0.3854, Train Acc 0.8608, Val Acc 0.8773 (Best 0.8781), Test Acc 0.8611 (Best 0.8628)\n",
      "Loss 0.3838, Train Acc 0.8604, Val Acc 0.8768 (Best 0.8781), Test Acc 0.8611 (Best 0.8628)\n",
      "Loss 0.3823, Train Acc 0.8604, Val Acc 0.8764 (Best 0.8781), Test Acc 0.8607 (Best 0.8628)\n",
      "Loss 0.3809, Train Acc 0.8608, Val Acc 0.8768 (Best 0.8781), Test Acc 0.8611 (Best 0.8628)\n"
     ]
    }
   ],
   "source": [
    "node_features = {srctype: g.nodes[srctype].data['feature'] for srctype,etype,dsttype in g.canonical_etypes}\n",
    "labels = g.nodes['user_id'].data['label']\n",
    "train_mask = g.nodes['user_id'].data['train_mask']\n",
    "valid_mask = g.nodes['user_id'].data['valid_mask']\n",
    "test_mask = g.nodes['user_id'].data['test_mask']\n",
    "\n",
    "model = HeteroRGCN(g, 16, 8, 2)\n",
    "\n",
    "opt = torch.optim.Adam(model.parameters(), lr=0.01, weight_decay=5e-4)\n",
    "\n",
    "best_val_acc = 0\n",
    "best_test_acc = 0\n",
    "\n",
    "for epoch in range(100):\n",
    "    logits = model(g,node_features)\n",
    "    # The loss is computed only for labeled nodes.\n",
    "    loss = F.cross_entropy(logits[train_mask], labels[train_mask])\n",
    "\n",
    "    pred = logits.argmax(1)\n",
    "    train_acc = (pred[train_mask] == labels[train_mask]).float().mean()\n",
    "    val_acc = (pred[valid_mask] == labels[valid_mask]).float().mean()\n",
    "    test_acc = (pred[test_mask] == labels[test_mask]).float().mean()\n",
    "\n",
    "    if best_val_acc < val_acc:\n",
    "        best_val_acc = val_acc\n",
    "        best_test_acc = test_acc\n",
    "\n",
    "    opt.zero_grad()\n",
    "    loss.backward()\n",
    "    opt.step()\n",
    "    \n",
    "\n",
    "    if epoch % 5 == 0:\n",
    "        print('Loss %.4f, Train Acc %.4f, Val Acc %.4f (Best %.4f), Test Acc %.4f (Best %.4f)' % (\n",
    "            loss.item(),\n",
    "            train_acc.item(),\n",
    "            val_acc.item(),\n",
    "            best_val_acc.item(),\n",
    "            test_acc.item(),\n",
    "            best_test_acc.item(),\n",
    "        ))"
   ]
  },
  {
   "cell_type": "code",
   "execution_count": 23,
   "metadata": {},
   "outputs": [
    {
     "data": {
      "text/plain": [
       "Graph(num_nodes={'advertising_id_id': 31403, 'ipv4_id': 8491, 'user_id': 12107, 'wifi_list_id': 57620, 'wifimac_id': 34029},\n",
       "      num_edges={('advertising_id_id', 'correlated-by', 'user_id'): 10809, ('ipv4_id', 'linked-by', 'user_id'): 3505, ('user_id', 'correlate', 'advertising_id_id'): 10809, ('user_id', 'discover', 'wifi_list_id'): 15405, ('user_id', 'link', 'ipv4_id'): 3505, ('user_id', 'link_1', 'wifimac_id'): 12581, ('wifi_list_id', 'discovered-by', 'user_id'): 15405, ('wifimac_id', 'linked-by_1', 'user_id'): 12581},\n",
       "      metagraph=[('advertising_id_id', 'user_id', 'correlated-by'), ('user_id', 'advertising_id_id', 'correlate'), ('user_id', 'wifi_list_id', 'discover'), ('user_id', 'ipv4_id', 'link'), ('user_id', 'wifimac_id', 'link_1'), ('ipv4_id', 'user_id', 'linked-by'), ('wifi_list_id', 'user_id', 'discovered-by'), ('wifimac_id', 'user_id', 'linked-by_1')])"
      ]
     },
     "execution_count": 23,
     "metadata": {},
     "output_type": "execute_result"
    }
   ],
   "source": [
    "g"
   ]
  },
  {
   "cell_type": "code",
   "execution_count": 24,
   "metadata": {},
   "outputs": [],
   "source": [
    "torch.save(model.state_dict(),\"./results/net_params.pkl\")#只保存模型的参数"
   ]
  },
  {
   "cell_type": "code",
   "execution_count": 25,
   "metadata": {},
   "outputs": [
    {
     "data": {
      "text/plain": [
       "<All keys matched successfully>"
      ]
     },
     "execution_count": 25,
     "metadata": {},
     "output_type": "execute_result"
    }
   ],
   "source": [
    "model.load_state_dict(torch.load(\"./results/net_params.pkl\"))"
   ]
  },
  {
   "cell_type": "code",
   "execution_count": 26,
   "metadata": {
    "scrolled": true
   },
   "outputs": [
    {
     "data": {
      "text/plain": [
       "tensor([[-1.4206,  0.8478],\n",
       "        [-0.8104,  1.0552],\n",
       "        [-1.0313,  1.9300],\n",
       "        ...,\n",
       "        [ 0.0756,  0.2616],\n",
       "        [-1.3092,  0.6762],\n",
       "        [-1.8625,  0.8065]], grad_fn=<SumBackward1>)"
      ]
     },
     "execution_count": 26,
     "metadata": {},
     "output_type": "execute_result"
    }
   ],
   "source": [
    "model(g,node_features)"
   ]
  },
  {
   "cell_type": "code",
   "execution_count": 34,
   "metadata": {},
   "outputs": [],
   "source": [
    "??nn.Embedding"
   ]
  },
  {
   "cell_type": "code",
   "execution_count": 28,
   "metadata": {},
   "outputs": [],
   "source": [
    "g.add_edges(8490,12107,etype=('ipv4_id', 'linked-by', 'user_id'))\n",
    "test_data = nn.Embedding(1,embedding_size).weight\n",
    "node_type = 'user_id'\n",
    "g.nodes[node_type].data['feature'][12107] = test_data\n",
    "node_features = {srctype: g.nodes[srctype].data['feature'] for srctype,etype,dsttype in g.canonical_etypes}"
   ]
  },
  {
   "cell_type": "code",
   "execution_count": 32,
   "metadata": {},
   "outputs": [
    {
     "data": {
      "text/plain": [
       "Parameter containing:\n",
       "tensor([[-1.9769,  1.5835,  0.5869, -1.2733, -0.0437,  0.1195, -0.3198,  0.4992,\n",
       "         -0.9542,  2.2619,  1.1997, -0.7277, -2.1320,  0.9408, -0.1410,  0.1148]],\n",
       "       requires_grad=True)"
      ]
     },
     "execution_count": 32,
     "metadata": {},
     "output_type": "execute_result"
    }
   ],
   "source": [
    "test_data"
   ]
  },
  {
   "cell_type": "code",
   "execution_count": 36,
   "metadata": {},
   "outputs": [
    {
     "data": {
      "text/plain": [
       "tensor([[-1.4206,  0.8478],\n",
       "        [-0.8104,  1.0552],\n",
       "        [-1.0313,  1.9300],\n",
       "        ...,\n",
       "        [-1.3092,  0.6762],\n",
       "        [-1.8625,  0.8065],\n",
       "        [-0.0337,  0.1390]], grad_fn=<SumBackward1>)"
      ]
     },
     "execution_count": 36,
     "metadata": {},
     "output_type": "execute_result"
    }
   ],
   "source": [
    "model(g,node_features)"
   ]
  },
  {
   "cell_type": "code",
   "execution_count": 26,
   "metadata": {},
   "outputs": [
    {
     "data": {
      "text/plain": [
       "tensor(11111, grad_fn=<SumBackward0>)"
      ]
     },
     "execution_count": 26,
     "metadata": {},
     "output_type": "execute_result"
    }
   ],
   "source": [
    "pred.sum()"
   ]
  },
  {
   "cell_type": "code",
   "execution_count": 27,
   "metadata": {},
   "outputs": [
    {
     "data": {
      "text/plain": [
       "torch.Size([12107])"
      ]
     },
     "execution_count": 27,
     "metadata": {},
     "output_type": "execute_result"
    }
   ],
   "source": [
    "pred.shape"
   ]
  },
  {
   "cell_type": "code",
   "execution_count": 28,
   "metadata": {},
   "outputs": [
    {
     "data": {
      "text/plain": [
       "tensor(10460)"
      ]
     },
     "execution_count": 28,
     "metadata": {},
     "output_type": "execute_result"
    }
   ],
   "source": [
    "labels.sum()"
   ]
  },
  {
   "cell_type": "code",
   "execution_count": 29,
   "metadata": {},
   "outputs": [
    {
     "data": {
      "text/plain": [
       "tensor(11456)"
      ]
     },
     "execution_count": 29,
     "metadata": {},
     "output_type": "execute_result"
    }
   ],
   "source": [
    "(pred==labels).sum()"
   ]
  },
  {
   "cell_type": "code",
   "execution_count": 31,
   "metadata": {},
   "outputs": [
    {
     "data": {
      "text/plain": [
       "tensor([False, False, False,  ..., False, False, False])"
      ]
     },
     "execution_count": 31,
     "metadata": {},
     "output_type": "execute_result"
    }
   ],
   "source": [
    "tmp = (pred!=labels)\n",
    "tmp"
   ]
  },
  {
   "cell_type": "code",
   "execution_count": null,
   "metadata": {},
   "outputs": [],
   "source": []
  },
  {
   "cell_type": "code",
   "execution_count": null,
   "metadata": {},
   "outputs": [],
   "source": []
  },
  {
   "cell_type": "code",
   "execution_count": null,
   "metadata": {},
   "outputs": [],
   "source": []
  },
  {
   "cell_type": "code",
   "execution_count": null,
   "metadata": {},
   "outputs": [],
   "source": []
  },
  {
   "cell_type": "code",
   "execution_count": 91,
   "metadata": {},
   "outputs": [],
   "source": [
    "import dgl\n",
    "import dgl.nn as dglnn\n",
    "import numpy as np\n",
    "import torch\n",
    "\n",
    "n_users = 1000\n",
    "n_items = 500\n",
    "n_follows = 3000\n",
    "n_clicks = 5000\n",
    "n_dislikes = 600\n",
    "n_hetero_features = 10\n",
    "n_user_classes = 5\n",
    "n_max_clicks = 10\n",
    "\n",
    "follow_src = np.random.randint(0, n_users, n_follows)\n",
    "follow_dst = np.random.randint(0, n_users, n_follows)\n",
    "click_src = np.random.randint(0, n_users, n_clicks)\n",
    "click_dst = np.random.randint(0, n_items, n_clicks)\n",
    "dislike_src = np.random.randint(0, n_users, n_dislikes)\n",
    "dislike_dst = np.random.randint(0, n_items, n_dislikes)\n",
    "\n",
    "hetero_graph = dgl.heterograph({\n",
    "    ('user', 'follow', 'user'): (follow_src, follow_dst),\n",
    "    ('user', 'followed-by', 'user'): (follow_dst, follow_src),\n",
    "    ('user', 'click', 'item'): (click_src, click_dst),\n",
    "    ('item', 'clicked-by', 'user'): (click_dst, click_src),\n",
    "    ('user', 'dislike', 'item'): (dislike_src, dislike_dst),\n",
    "    ('item', 'disliked-by', 'user'): (dislike_dst, dislike_src)})\n",
    "\n",
    "hetero_graph.nodes['user'].data['feature'] = nn.Embedding(n_users,n_hetero_features).weight\n",
    "hetero_graph.nodes['item'].data['feature'] = nn.Embedding(n_items,n_hetero_features).weight\n",
    "# hetero_graph.nodes['user'].data['feature'] = torch.randn(n_users, n_hetero_features)\n",
    "# hetero_graph.nodes['item'].data['feature'] = torch.randn(n_items, n_hetero_features)\n",
    "hetero_graph.nodes['user'].data['label'] = torch.randint(0, n_user_classes, (n_users,))\n",
    "hetero_graph.edges['click'].data['label'] = torch.randint(1, n_max_clicks, (n_clicks,)).float()\n",
    "# randomly generate training masks on user nodes and click edges\n",
    "hetero_graph.nodes['user'].data['train_mask'] = torch.zeros(n_users, dtype=torch.bool).bernoulli(0.6)\n",
    "hetero_graph.edges['click'].data['train_mask'] = torch.zeros(n_clicks, dtype=torch.bool).bernoulli(0.6)"
   ]
  },
  {
   "cell_type": "code",
   "execution_count": 92,
   "metadata": {},
   "outputs": [
    {
     "data": {
      "text/plain": [
       "Graph(num_nodes={'item': 500, 'user': 1000},\n",
       "      num_edges={('item', 'clicked-by', 'user'): 5000, ('item', 'disliked-by', 'user'): 600, ('user', 'click', 'item'): 5000, ('user', 'dislike', 'item'): 600, ('user', 'follow', 'user'): 3000, ('user', 'followed-by', 'user'): 3000},\n",
       "      metagraph=[('item', 'user', 'clicked-by'), ('item', 'user', 'disliked-by'), ('user', 'item', 'click'), ('user', 'item', 'dislike'), ('user', 'user', 'follow'), ('user', 'user', 'followed-by')])"
      ]
     },
     "execution_count": 92,
     "metadata": {},
     "output_type": "execute_result"
    }
   ],
   "source": [
    "hetero_graph"
   ]
  },
  {
   "cell_type": "code",
   "execution_count": 93,
   "metadata": {},
   "outputs": [],
   "source": [
    "# Define a Heterograph Conv model\n",
    "import dgl.nn as dglnn\n",
    "\n",
    "class RGCN(nn.Module):\n",
    "    def __init__(self, in_feats, hid_feats, out_feats, rel_names):\n",
    "        super().__init__()\n",
    "\n",
    "        self.conv1 = dglnn.HeteroGraphConv({\n",
    "            rel: dglnn.GraphConv(in_feats, hid_feats)\n",
    "            for rel in rel_names}, aggregate='sum')\n",
    "        self.conv2 = dglnn.HeteroGraphConv({\n",
    "            rel: dglnn.GraphConv(hid_feats, out_feats)\n",
    "            for rel in rel_names}, aggregate='sum')\n",
    "\n",
    "    def forward(self, graph, inputs):\n",
    "        # inputs are features of nodes\n",
    "        h = self.conv1(graph, inputs)\n",
    "        h = {k: F.relu(v) for k, v in h.items()}\n",
    "        h = self.conv2(graph, h)\n",
    "        return h"
   ]
  },
  {
   "cell_type": "code",
   "execution_count": 94,
   "metadata": {},
   "outputs": [],
   "source": [
    "model = RGCN(n_hetero_features, 20, n_user_classes, hetero_graph.etypes)\n",
    "user_feats = hetero_graph.nodes['user'].data['feature']\n",
    "item_feats = hetero_graph.nodes['item'].data['feature']\n",
    "labels = hetero_graph.nodes['user'].data['label']\n",
    "train_mask = hetero_graph.nodes['user'].data['train_mask']"
   ]
  },
  {
   "cell_type": "code",
   "execution_count": 95,
   "metadata": {},
   "outputs": [],
   "source": [
    "node_features = {'user': user_feats, 'item': item_feats}\n",
    "h_dict = model(hetero_graph, {'user': user_feats, 'item': item_feats})\n",
    "h_user = h_dict['user']\n",
    "h_item = h_dict['item']"
   ]
  },
  {
   "cell_type": "code",
   "execution_count": 96,
   "metadata": {},
   "outputs": [
    {
     "data": {
      "text/plain": [
       "(torch.Size([1000, 10]), torch.Size([500, 10]))"
      ]
     },
     "execution_count": 96,
     "metadata": {},
     "output_type": "execute_result"
    }
   ],
   "source": [
    "node_features['user'].shape,node_features['item'].shape"
   ]
  },
  {
   "cell_type": "code",
   "execution_count": 97,
   "metadata": {},
   "outputs": [
    {
     "name": "stdout",
     "output_type": "stream",
     "text": [
      "1.8393909931182861\n",
      "1.825650930404663\n",
      "1.8125256299972534\n",
      "1.8000175952911377\n",
      "1.7881242036819458\n"
     ]
    }
   ],
   "source": [
    "opt = torch.optim.Adam(model.parameters())\n",
    "\n",
    "for epoch in range(5):\n",
    "    model.train()\n",
    "    # forward propagation by using all nodes and extracting the user embeddings\n",
    "    logits = model(hetero_graph, node_features)['user']\n",
    "    # compute loss\n",
    "    loss = F.cross_entropy(logits[train_mask], labels[train_mask])\n",
    "    # Compute validation accuracy.  Omitted in this example.\n",
    "    # backward propagation\n",
    "    opt.zero_grad()\n",
    "    loss.backward()\n",
    "    opt.step()\n",
    "    print(loss.item())\n",
    "\n",
    "    # Save model if necessary.  Omitted in the example."
   ]
  },
  {
   "cell_type": "code",
   "execution_count": null,
   "metadata": {},
   "outputs": [],
   "source": []
  },
  {
   "cell_type": "code",
   "execution_count": null,
   "metadata": {},
   "outputs": [],
   "source": []
  },
  {
   "cell_type": "code",
   "execution_count": null,
   "metadata": {},
   "outputs": [],
   "source": []
  },
  {
   "cell_type": "code",
   "execution_count": null,
   "metadata": {},
   "outputs": [],
   "source": []
  },
  {
   "cell_type": "code",
   "execution_count": null,
   "metadata": {},
   "outputs": [],
   "source": []
  },
  {
   "cell_type": "code",
   "execution_count": null,
   "metadata": {},
   "outputs": [],
   "source": []
  }
 ],
 "metadata": {
  "kernelspec": {
   "display_name": "Python 3",
   "language": "python",
   "name": "python3"
  },
  "language_info": {
   "codemirror_mode": {
    "name": "ipython",
    "version": 3
   },
   "file_extension": ".py",
   "mimetype": "text/x-python",
   "name": "python",
   "nbconvert_exporter": "python",
   "pygments_lexer": "ipython3",
   "version": "3.7.4"
  },
  "toc": {
   "base_numbering": 1,
   "nav_menu": {},
   "number_sections": true,
   "sideBar": true,
   "skip_h1_title": false,
   "title_cell": "Table of Contents",
   "title_sidebar": "Contents",
   "toc_cell": false,
   "toc_position": {},
   "toc_section_display": true,
   "toc_window_display": false
  }
 },
 "nbformat": 4,
 "nbformat_minor": 4
}
