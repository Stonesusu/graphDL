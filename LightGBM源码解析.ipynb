{
 "cells": [
  {
   "cell_type": "markdown",
   "metadata": {},
   "source": [
    "## 直方图 FeatureHistogram"
   ]
  },
  {
   "cell_type": "markdown",
   "metadata": {},
   "source": [
    "在训练树的时候，需要找到最佳划分节点，为此其中需要遍历特征下的每一个value，  \n",
    "这里通常有两种做法：pre-sorted algorithm(预排序算法)和histogram-based algorithm（直方图算法）。"
   ]
  },
  {
   "cell_type": "markdown",
   "metadata": {},
   "source": [
    "预排序算法就是传统的要遍历当前特征下的每一个value，其通常是在开始对该特征下的每个value进行排序，后面就是遍历选取最佳划分点  \n",
    "直方图算法其实就是将value离散化了，生成一个个bin，常称为分桶，离散化后的bin数其实是小于原始的value数的，于是复杂度从（#feature*#data）降为了（#feature*#bin）。"
   ]
  },
  {
   "cell_type": "markdown",
   "metadata": {},
   "source": [
    "需要注意：直方图算法并不是LightGBM所特有的或是闪亮点（其闪亮点还是论文所说的两大技术GOSS和EFB），  \n",
    "GBDT的相关演变算法有很多，有部分计算法就用了直方图，类如Scikit-learn和gbm in R演变算法使用了pre-sorted algorithm算法，  \n",
    "pGBRT算法是使用了histogram-based algorithm，而XGBoost两者都支持，\n",
    "这里多说一句，Xgboost的近似算法其实就用了histogram-based algorithm(分位数作为划分点)"
   ]
  },
  {
   "cell_type": "code",
   "execution_count": null,
   "metadata": {},
   "outputs": [],
   "source": []
  },
  {
   "cell_type": "code",
   "execution_count": null,
   "metadata": {},
   "outputs": [],
   "source": []
  },
  {
   "cell_type": "code",
   "execution_count": null,
   "metadata": {},
   "outputs": [],
   "source": []
  },
  {
   "cell_type": "code",
   "execution_count": null,
   "metadata": {},
   "outputs": [],
   "source": []
  },
  {
   "cell_type": "code",
   "execution_count": null,
   "metadata": {},
   "outputs": [],
   "source": []
  },
  {
   "cell_type": "code",
   "execution_count": null,
   "metadata": {},
   "outputs": [],
   "source": []
  }
 ],
 "metadata": {
  "kernelspec": {
   "display_name": "Python 3",
   "language": "python",
   "name": "python3"
  },
  "language_info": {
   "codemirror_mode": {
    "name": "ipython",
    "version": 3
   },
   "file_extension": ".py",
   "mimetype": "text/x-python",
   "name": "python",
   "nbconvert_exporter": "python",
   "pygments_lexer": "ipython3",
   "version": "3.7.4"
  }
 },
 "nbformat": 4,
 "nbformat_minor": 2
}
