{
 "cells": [
  {
   "cell_type": "code",
   "execution_count": 1,
   "metadata": {},
   "outputs": [
    {
     "name": "stdout",
     "output_type": "stream",
     "text": [
      "Namespace(batch_size=100, data_cpu=False, dataset='aifb', dropout=0, fanout=8, gpu=-1, l2norm=0, lr=0.01, model_path=None, n_bases=-1, n_epochs=20, n_hidden=16, n_layers=2, use_self_loop=False, validation=False)\n",
      "Done loading data from cached files.\n",
      "Graph(num_nodes={'Forschungsgebiete': 146, 'Forschungsgruppen': 5, 'Kooperationen': 28, 'Personen': 237, 'Projekte': 78, 'Publikationen': 1318, '_Literal': 5450},\n",
      "      num_edges={('Forschungsgebiete', 'ontology#dealtWithIn', 'Projekte'): 357, ('Forschungsgebiete', 'ontology#isWorkedOnBy', 'Personen'): 571, ('Forschungsgebiete', 'ontology#name', '_Literal'): 146, ('Forschungsgebiete', 'rdftype', '_Literal'): 129, ('Forschungsgebiete', 'rev-ontology#isAbout', 'Projekte'): 357, ('Forschungsgebiete', 'rev-ontology#isAbout', 'Publikationen'): 2120, ('Forschungsgruppen', 'ontology#carriesOut', 'Projekte'): 79, ('Forschungsgruppen', 'ontology#head', 'Personen'): 5, ('Forschungsgruppen', 'ontology#homepage', '_Literal'): 5, ('Forschungsgruppen', 'ontology#member', 'Personen'): 74, ('Forschungsgruppen', 'ontology#name', '_Literal'): 5, ('Forschungsgruppen', 'ontology#publishes', 'Publikationen'): 1217, ('Forschungsgruppen', 'rev-ontology#carriedOutBy', 'Projekte'): 79, ('Kooperationen', 'ontology#finances', 'Projekte'): 68, ('Kooperationen', 'ontology#name', '_Literal'): 28, ('Kooperationen', 'rev-ontology#financedBy', 'Projekte'): 65, ('Personen', 'ontology#fax', '_Literal'): 227, ('Personen', 'ontology#homepage', '_Literal'): 78, ('Personen', 'ontology#name', '_Literal'): 227, ('Personen', 'ontology#phone', '_Literal'): 227, ('Personen', 'ontology#photo', '_Literal'): 148, ('Personen', 'ontology#publication', 'Publikationen'): 2609, ('Personen', 'ontology#worksAtProject', 'Projekte'): 200, ('Personen', 'rev-ontology#author', 'Publikationen'): 2550, ('Personen', 'rev-ontology#editor', 'Publikationen'): 81, ('Personen', 'rev-ontology#head', 'Forschungsgruppen'): 5, ('Personen', 'rev-ontology#isWorkedOnBy', 'Forschungsgebiete'): 571, ('Personen', 'rev-ontology#member', 'Forschungsgruppen'): 74, ('Personen', 'rev-ontology#member', 'Projekte'): 265, ('Projekte', 'ontology#carriedOutBy', 'Forschungsgruppen'): 79, ('Projekte', 'ontology#financedBy', 'Kooperationen'): 65, ('Projekte', 'ontology#homepage', '_Literal'): 57, ('Projekte', 'ontology#isAbout', 'Forschungsgebiete'): 357, ('Projekte', 'ontology#member', 'Personen'): 265, ('Projekte', 'ontology#name', '_Literal'): 75, ('Projekte', 'ontology#projectInfo', 'Publikationen'): 952, ('Projekte', 'rev-ontology#carriesOut', 'Forschungsgruppen'): 79, ('Projekte', 'rev-ontology#dealtWithIn', 'Forschungsgebiete'): 357, ('Projekte', 'rev-ontology#finances', 'Kooperationen'): 68, ('Projekte', 'rev-ontology#hasProject', 'Publikationen'): 952, ('Projekte', 'rev-ontology#worksAtProject', 'Personen'): 200, ('Publikationen', 'ontology#abstract', '_Literal'): 534, ('Publikationen', 'ontology#address', '_Literal'): 202, ('Publikationen', 'ontology#author', 'Personen'): 2550, ('Publikationen', 'ontology#author', 'Publikationen'): 1436, ('Publikationen', 'ontology#booktitle', '_Literal'): 765, ('Publikationen', 'ontology#chapter', '_Literal'): 15, ('Publikationen', 'ontology#edition', '_Literal'): 12, ('Publikationen', 'ontology#editor', 'Personen'): 81, ('Publikationen', 'ontology#editor', 'Publikationen'): 109, ('Publikationen', 'ontology#hasProject', 'Projekte'): 952, ('Publikationen', 'ontology#homepage', '_Literal'): 99, ('Publikationen', 'ontology#howpublished', '_Literal'): 49, ('Publikationen', 'ontology#isAbout', 'Forschungsgebiete'): 2120, ('Publikationen', 'ontology#isbn', '_Literal'): 16, ('Publikationen', 'ontology#journal', '_Literal'): 161, ('Publikationen', 'ontology#month', '_Literal'): 759, ('Publikationen', 'ontology#name', '_Literal'): 821, ('Publikationen', 'ontology#note', '_Literal'): 114, ('Publikationen', 'ontology#number', '_Literal'): 145, ('Publikationen', 'ontology#pages', '_Literal'): 548, ('Publikationen', 'ontology#publication', 'Publikationen'): 1554, ('Publikationen', 'ontology#series', '_Literal'): 298, ('Publikationen', 'ontology#title', '_Literal'): 1227, ('Publikationen', 'ontology#type', '_Literal'): 50, ('Publikationen', 'ontology#volume', '_Literal'): 311, ('Publikationen', 'ontology#year', '_Literal'): 1227, ('Publikationen', 'rev-ontology#author', 'Publikationen'): 1436, ('Publikationen', 'rev-ontology#editor', 'Publikationen'): 109, ('Publikationen', 'rev-ontology#projectInfo', 'Projekte'): 952, ('Publikationen', 'rev-ontology#publication', 'Personen'): 2609, ('Publikationen', 'rev-ontology#publication', 'Publikationen'): 1554, ('Publikationen', 'rev-ontology#publishes', 'Forschungsgruppen'): 1217, ('_Literal', 'rev-ontology#abstract', 'Publikationen'): 534, ('_Literal', 'rev-ontology#address', 'Publikationen'): 202, ('_Literal', 'rev-ontology#booktitle', 'Publikationen'): 765, ('_Literal', 'rev-ontology#chapter', 'Publikationen'): 15, ('_Literal', 'rev-ontology#edition', 'Publikationen'): 12, ('_Literal', 'rev-ontology#fax', 'Personen'): 227, ('_Literal', 'rev-ontology#homepage', 'Forschungsgruppen'): 5, ('_Literal', 'rev-ontology#homepage', 'Personen'): 78, ('_Literal', 'rev-ontology#homepage', 'Projekte'): 57, ('_Literal', 'rev-ontology#homepage', 'Publikationen'): 99, ('_Literal', 'rev-ontology#howpublished', 'Publikationen'): 49, ('_Literal', 'rev-ontology#isbn', 'Publikationen'): 16, ('_Literal', 'rev-ontology#journal', 'Publikationen'): 161, ('_Literal', 'rev-ontology#month', 'Publikationen'): 759, ('_Literal', 'rev-ontology#name', 'Forschungsgebiete'): 146, ('_Literal', 'rev-ontology#name', 'Forschungsgruppen'): 5, ('_Literal', 'rev-ontology#name', 'Kooperationen'): 28, ('_Literal', 'rev-ontology#name', 'Personen'): 227, ('_Literal', 'rev-ontology#name', 'Projekte'): 75, ('_Literal', 'rev-ontology#name', 'Publikationen'): 821, ('_Literal', 'rev-ontology#note', 'Publikationen'): 114, ('_Literal', 'rev-ontology#number', 'Publikationen'): 145, ('_Literal', 'rev-ontology#pages', 'Publikationen'): 548, ('_Literal', 'rev-ontology#phone', 'Personen'): 227, ('_Literal', 'rev-ontology#photo', 'Personen'): 148, ('_Literal', 'rev-ontology#series', 'Publikationen'): 298, ('_Literal', 'rev-ontology#title', 'Publikationen'): 1227, ('_Literal', 'rev-ontology#type', 'Publikationen'): 50, ('_Literal', 'rev-ontology#volume', 'Publikationen'): 311, ('_Literal', 'rev-ontology#year', 'Publikationen'): 1227, ('_Literal', 'rev-rdftype', 'Forschungsgebiete'): 129},\n",
      "      metagraph=[('Forschungsgebiete', 'Projekte', 'ontology#dealtWithIn'), ('Forschungsgebiete', 'Projekte', 'rev-ontology#isAbout'), ('Forschungsgebiete', 'Personen', 'ontology#isWorkedOnBy'), ('Forschungsgebiete', '_Literal', 'ontology#name'), ('Forschungsgebiete', '_Literal', 'rdftype'), ('Forschungsgebiete', 'Publikationen', 'rev-ontology#isAbout'), ('Projekte', 'Forschungsgruppen', 'ontology#carriedOutBy'), ('Projekte', 'Forschungsgruppen', 'rev-ontology#carriesOut'), ('Projekte', 'Kooperationen', 'ontology#financedBy'), ('Projekte', 'Kooperationen', 'rev-ontology#finances'), ('Projekte', '_Literal', 'ontology#homepage'), ('Projekte', '_Literal', 'ontology#name'), ('Projekte', 'Forschungsgebiete', 'ontology#isAbout'), ('Projekte', 'Forschungsgebiete', 'rev-ontology#dealtWithIn'), ('Projekte', 'Personen', 'ontology#member'), ('Projekte', 'Personen', 'rev-ontology#worksAtProject'), ('Projekte', 'Publikationen', 'ontology#projectInfo'), ('Projekte', 'Publikationen', 'rev-ontology#hasProject'), ('Personen', '_Literal', 'ontology#fax'), ('Personen', '_Literal', 'ontology#homepage'), ('Personen', '_Literal', 'ontology#name'), ('Personen', '_Literal', 'ontology#phone'), ('Personen', '_Literal', 'ontology#photo'), ('Personen', 'Publikationen', 'ontology#publication'), ('Personen', 'Publikationen', 'rev-ontology#author'), ('Personen', 'Publikationen', 'rev-ontology#editor'), ('Personen', 'Projekte', 'ontology#worksAtProject'), ('Personen', 'Projekte', 'rev-ontology#member'), ('Personen', 'Forschungsgruppen', 'rev-ontology#head'), ('Personen', 'Forschungsgruppen', 'rev-ontology#member'), ('Personen', 'Forschungsgebiete', 'rev-ontology#isWorkedOnBy'), ('_Literal', 'Publikationen', 'rev-ontology#abstract'), ('_Literal', 'Publikationen', 'rev-ontology#address'), ('_Literal', 'Publikationen', 'rev-ontology#booktitle'), ('_Literal', 'Publikationen', 'rev-ontology#chapter'), ('_Literal', 'Publikationen', 'rev-ontology#edition'), ('_Literal', 'Publikationen', 'rev-ontology#homepage'), ('_Literal', 'Publikationen', 'rev-ontology#howpublished'), ('_Literal', 'Publikationen', 'rev-ontology#isbn'), ('_Literal', 'Publikationen', 'rev-ontology#journal'), ('_Literal', 'Publikationen', 'rev-ontology#month'), ('_Literal', 'Publikationen', 'rev-ontology#name'), ('_Literal', 'Publikationen', 'rev-ontology#note'), ('_Literal', 'Publikationen', 'rev-ontology#number'), ('_Literal', 'Publikationen', 'rev-ontology#pages'), ('_Literal', 'Publikationen', 'rev-ontology#series'), ('_Literal', 'Publikationen', 'rev-ontology#title'), ('_Literal', 'Publikationen', 'rev-ontology#type'), ('_Literal', 'Publikationen', 'rev-ontology#volume'), ('_Literal', 'Publikationen', 'rev-ontology#year'), ('_Literal', 'Personen', 'rev-ontology#fax'), ('_Literal', 'Personen', 'rev-ontology#homepage'), ('_Literal', 'Personen', 'rev-ontology#name'), ('_Literal', 'Personen', 'rev-ontology#phone'), ('_Literal', 'Personen', 'rev-ontology#photo'), ('_Literal', 'Forschungsgruppen', 'rev-ontology#homepage'), ('_Literal', 'Forschungsgruppen', 'rev-ontology#name'), ('_Literal', 'Projekte', 'rev-ontology#homepage'), ('_Literal', 'Projekte', 'rev-ontology#name'), ('_Literal', 'Forschungsgebiete', 'rev-ontology#name'), ('_Literal', 'Forschungsgebiete', 'rev-rdftype'), ('_Literal', 'Kooperationen', 'rev-ontology#name'), ('Publikationen', '_Literal', 'ontology#abstract'), ('Publikationen', '_Literal', 'ontology#address'), ('Publikationen', '_Literal', 'ontology#booktitle'), ('Publikationen', '_Literal', 'ontology#chapter'), ('Publikationen', '_Literal', 'ontology#edition'), ('Publikationen', '_Literal', 'ontology#homepage'), ('Publikationen', '_Literal', 'ontology#howpublished'), ('Publikationen', '_Literal', 'ontology#isbn'), ('Publikationen', '_Literal', 'ontology#journal'), ('Publikationen', '_Literal', 'ontology#month'), ('Publikationen', '_Literal', 'ontology#name'), ('Publikationen', '_Literal', 'ontology#note'), ('Publikationen', '_Literal', 'ontology#number'), ('Publikationen', '_Literal', 'ontology#pages'), ('Publikationen', '_Literal', 'ontology#series'), ('Publikationen', '_Literal', 'ontology#title'), ('Publikationen', '_Literal', 'ontology#type'), ('Publikationen', '_Literal', 'ontology#volume'), ('Publikationen', '_Literal', 'ontology#year'), ('Publikationen', 'Personen', 'ontology#author'), ('Publikationen', 'Personen', 'ontology#editor'), ('Publikationen', 'Personen', 'rev-ontology#publication'), ('Publikationen', 'Publikationen', 'ontology#author'), ('Publikationen', 'Publikationen', 'ontology#editor'), ('Publikationen', 'Publikationen', 'ontology#publication'), ('Publikationen', 'Publikationen', 'rev-ontology#author'), ('Publikationen', 'Publikationen', 'rev-ontology#editor'), ('Publikationen', 'Publikationen', 'rev-ontology#publication'), ('Publikationen', 'Projekte', 'ontology#hasProject'), ('Publikationen', 'Projekte', 'rev-ontology#projectInfo'), ('Publikationen', 'Forschungsgebiete', 'ontology#isAbout'), ('Publikationen', 'Forschungsgruppen', 'rev-ontology#publishes'), ('Forschungsgruppen', 'Projekte', 'ontology#carriesOut'), ('Forschungsgruppen', 'Projekte', 'rev-ontology#carriedOutBy'), ('Forschungsgruppen', 'Personen', 'ontology#head'), ('Forschungsgruppen', 'Personen', 'ontology#member'), ('Forschungsgruppen', '_Literal', 'ontology#homepage'), ('Forschungsgruppen', '_Literal', 'ontology#name'), ('Forschungsgruppen', 'Publikationen', 'ontology#publishes'), ('Kooperationen', 'Projekte', 'ontology#finances'), ('Kooperationen', 'Projekte', 'rev-ontology#financedBy'), ('Kooperationen', '_Literal', 'ontology#name')])\n"
     ]
    },
    {
     "name": "stderr",
     "output_type": "stream",
     "text": [
      "Using backend: pytorch\n"
     ]
    }
   ],
   "source": [
    "!python entity_classify_mb.py -d aifb --testing --gpu -1 --fanout=8"
   ]
  },
  {
   "cell_type": "code",
   "execution_count": null,
   "metadata": {},
   "outputs": [],
   "source": []
  },
  {
   "cell_type": "code",
   "execution_count": null,
   "metadata": {},
   "outputs": [],
   "source": []
  },
  {
   "cell_type": "code",
   "execution_count": null,
   "metadata": {},
   "outputs": [],
   "source": []
  }
 ],
 "metadata": {
  "kernelspec": {
   "display_name": "Python 3",
   "language": "python",
   "name": "python3"
  },
  "language_info": {
   "codemirror_mode": {
    "name": "ipython",
    "version": 3
   },
   "file_extension": ".py",
   "mimetype": "text/x-python",
   "name": "python",
   "nbconvert_exporter": "python",
   "pygments_lexer": "ipython3",
   "version": "3.7.4"
  }
 },
 "nbformat": 4,
 "nbformat_minor": 2
}
