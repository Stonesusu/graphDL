{
 "cells": [
  {
   "cell_type": "code",
   "execution_count": 11,
   "metadata": {
    "scrolled": true
   },
   "outputs": [
    {
     "name": "stdout",
     "output_type": "stream",
     "text": [
      "      customer_id           trans_time target\n",
      "0          862201  2020-07-13 18:05:08      1\n",
      "1         4271399  2020-07-27 10:25:27      1\n",
      "2         4284127  2020-08-01 09:15:17      1\n",
      "3         4237165  2020-07-03 13:05:09      0\n",
      "4         4091456  2020-06-12 19:05:11      0\n",
      "...           ...                  ...    ...\n",
      "12102     4235548  2020-07-17 11:35:05      1\n",
      "12103     4290699  2020-08-05 21:40:08      1\n",
      "12104     4281305  2020-07-30 03:20:02      1\n",
      "12105     4268429  2020-07-21 16:05:05      1\n",
      "12106     4286398  2020-08-02 16:30:08      1\n",
      "\n",
      "[12107 rows x 3 columns]\n",
      "Done!\n"
     ]
    },
    {
     "name": "stderr",
     "output_type": "stream",
     "text": [
      "Using backend: pytorch\n"
     ]
    }
   ],
   "source": [
    "!python precoss_dataset.py ../data/01_data_processed ../data/01_data_processed"
   ]
  },
  {
   "cell_type": "code",
   "execution_count": 17,
   "metadata": {},
   "outputs": [],
   "source": [
    "import numpy as np\n",
    "import pandas as pd\n",
    "import os"
   ]
  },
  {
   "cell_type": "code",
   "execution_count": 30,
   "metadata": {
    "scrolled": true
   },
   "outputs": [
    {
     "data": {
      "text/html": [
       "<div>\n",
       "<style scoped>\n",
       "    .dataframe tbody tr th:only-of-type {\n",
       "        vertical-align: middle;\n",
       "    }\n",
       "\n",
       "    .dataframe tbody tr th {\n",
       "        vertical-align: top;\n",
       "    }\n",
       "\n",
       "    .dataframe thead th {\n",
       "        text-align: right;\n",
       "    }\n",
       "</style>\n",
       "<table border=\"1\" class=\"dataframe\">\n",
       "  <thead>\n",
       "    <tr style=\"text-align: right;\">\n",
       "      <th></th>\n",
       "      <th>customer_id</th>\n",
       "      <th>trans_time</th>\n",
       "      <th>target</th>\n",
       "    </tr>\n",
       "  </thead>\n",
       "  <tbody>\n",
       "    <tr>\n",
       "      <td>0</td>\n",
       "      <td>862201</td>\n",
       "      <td>2020-07-13 18:05:08</td>\n",
       "      <td>1</td>\n",
       "    </tr>\n",
       "    <tr>\n",
       "      <td>1</td>\n",
       "      <td>4271399</td>\n",
       "      <td>2020-07-27 10:25:27</td>\n",
       "      <td>1</td>\n",
       "    </tr>\n",
       "    <tr>\n",
       "      <td>2</td>\n",
       "      <td>4284127</td>\n",
       "      <td>2020-08-01 09:15:17</td>\n",
       "      <td>1</td>\n",
       "    </tr>\n",
       "    <tr>\n",
       "      <td>3</td>\n",
       "      <td>4237165</td>\n",
       "      <td>2020-07-03 13:05:09</td>\n",
       "      <td>0</td>\n",
       "    </tr>\n",
       "    <tr>\n",
       "      <td>4</td>\n",
       "      <td>4091456</td>\n",
       "      <td>2020-06-12 19:05:11</td>\n",
       "      <td>0</td>\n",
       "    </tr>\n",
       "    <tr>\n",
       "      <td>...</td>\n",
       "      <td>...</td>\n",
       "      <td>...</td>\n",
       "      <td>...</td>\n",
       "    </tr>\n",
       "    <tr>\n",
       "      <td>12102</td>\n",
       "      <td>4235548</td>\n",
       "      <td>2020-07-17 11:35:05</td>\n",
       "      <td>1</td>\n",
       "    </tr>\n",
       "    <tr>\n",
       "      <td>12103</td>\n",
       "      <td>4290699</td>\n",
       "      <td>2020-08-05 21:40:08</td>\n",
       "      <td>1</td>\n",
       "    </tr>\n",
       "    <tr>\n",
       "      <td>12104</td>\n",
       "      <td>4281305</td>\n",
       "      <td>2020-07-30 03:20:02</td>\n",
       "      <td>1</td>\n",
       "    </tr>\n",
       "    <tr>\n",
       "      <td>12105</td>\n",
       "      <td>4268429</td>\n",
       "      <td>2020-07-21 16:05:05</td>\n",
       "      <td>1</td>\n",
       "    </tr>\n",
       "    <tr>\n",
       "      <td>12106</td>\n",
       "      <td>4286398</td>\n",
       "      <td>2020-08-02 16:30:08</td>\n",
       "      <td>1</td>\n",
       "    </tr>\n",
       "  </tbody>\n",
       "</table>\n",
       "<p>12107 rows × 3 columns</p>\n",
       "</div>"
      ],
      "text/plain": [
       "       customer_id           trans_time  target\n",
       "0           862201  2020-07-13 18:05:08       1\n",
       "1          4271399  2020-07-27 10:25:27       1\n",
       "2          4284127  2020-08-01 09:15:17       1\n",
       "3          4237165  2020-07-03 13:05:09       0\n",
       "4          4091456  2020-06-12 19:05:11       0\n",
       "...            ...                  ...     ...\n",
       "12102      4235548  2020-07-17 11:35:05       1\n",
       "12103      4290699  2020-08-05 21:40:08       1\n",
       "12104      4281305  2020-07-30 03:20:02       1\n",
       "12105      4268429  2020-07-21 16:05:05       1\n",
       "12106      4286398  2020-08-02 16:30:08       1\n",
       "\n",
       "[12107 rows x 3 columns]"
      ]
     },
     "execution_count": 30,
     "metadata": {},
     "output_type": "execute_result"
    }
   ],
   "source": [
    "directory = '../data/01_data_processed'\n",
    "users = pd.read_csv(os.path.join(directory,'user.csv'))\n",
    "users = users[['customer_id','trans_time','target']]\n",
    "users"
   ]
  },
  {
   "cell_type": "code",
   "execution_count": 31,
   "metadata": {
    "scrolled": true
   },
   "outputs": [
    {
     "data": {
      "text/html": [
       "<div>\n",
       "<style scoped>\n",
       "    .dataframe tbody tr th:only-of-type {\n",
       "        vertical-align: middle;\n",
       "    }\n",
       "\n",
       "    .dataframe tbody tr th {\n",
       "        vertical-align: top;\n",
       "    }\n",
       "\n",
       "    .dataframe thead th {\n",
       "        text-align: right;\n",
       "    }\n",
       "</style>\n",
       "<table border=\"1\" class=\"dataframe\">\n",
       "  <thead>\n",
       "    <tr style=\"text-align: right;\">\n",
       "      <th></th>\n",
       "      <th>customer_id</th>\n",
       "      <th>create_time</th>\n",
       "      <th>wifi_list</th>\n",
       "    </tr>\n",
       "  </thead>\n",
       "  <tbody>\n",
       "    <tr>\n",
       "      <td>25830</td>\n",
       "      <td>107056</td>\n",
       "      <td>2020-09-04 16:44:55</td>\n",
       "      <td>00:67:62:6d:02:e8</td>\n",
       "    </tr>\n",
       "    <tr>\n",
       "      <td>38719</td>\n",
       "      <td>107056</td>\n",
       "      <td>2020-09-08 19:46:41</td>\n",
       "      <td>2e:ff:ee:92:a8:03</td>\n",
       "    </tr>\n",
       "    <tr>\n",
       "      <td>38720</td>\n",
       "      <td>107056</td>\n",
       "      <td>2020-09-08 19:46:41</td>\n",
       "      <td>74:da:88:38:7f:2a</td>\n",
       "    </tr>\n",
       "    <tr>\n",
       "      <td>25826</td>\n",
       "      <td>107056</td>\n",
       "      <td>2020-09-04 16:44:55</td>\n",
       "      <td>80:26:89:58:d9:6b</td>\n",
       "    </tr>\n",
       "    <tr>\n",
       "      <td>25823</td>\n",
       "      <td>107056</td>\n",
       "      <td>2020-09-04 16:44:55</td>\n",
       "      <td>90:f6:52:ac:c3:c2</td>\n",
       "    </tr>\n",
       "    <tr>\n",
       "      <td>...</td>\n",
       "      <td>...</td>\n",
       "      <td>...</td>\n",
       "      <td>...</td>\n",
       "    </tr>\n",
       "    <tr>\n",
       "      <td>19207</td>\n",
       "      <td>4410632</td>\n",
       "      <td>2020-09-23 05:38:49</td>\n",
       "      <td>e8:65:d4:36:ec:30</td>\n",
       "    </tr>\n",
       "    <tr>\n",
       "      <td>19206</td>\n",
       "      <td>4410632</td>\n",
       "      <td>2020-09-23 05:38:49</td>\n",
       "      <td>f0:b4:d2:81:30:e6</td>\n",
       "    </tr>\n",
       "    <tr>\n",
       "      <td>19199</td>\n",
       "      <td>4410632</td>\n",
       "      <td>2020-09-23 05:38:49</td>\n",
       "      <td>f4:1d:6b:a5:88:70</td>\n",
       "    </tr>\n",
       "    <tr>\n",
       "      <td>19202</td>\n",
       "      <td>4410632</td>\n",
       "      <td>2020-09-23 05:38:49</td>\n",
       "      <td>fc:a6:cd:96:cd:f8</td>\n",
       "    </tr>\n",
       "    <tr>\n",
       "      <td>19198</td>\n",
       "      <td>4410632</td>\n",
       "      <td>2020-09-23 05:38:49</td>\n",
       "      <td>fc:a6:cd:96:e5:e0</td>\n",
       "    </tr>\n",
       "  </tbody>\n",
       "</table>\n",
       "<p>58262 rows × 3 columns</p>\n",
       "</div>"
      ],
      "text/plain": [
       "       customer_id          create_time          wifi_list\n",
       "25830       107056  2020-09-04 16:44:55  00:67:62:6d:02:e8\n",
       "38719       107056  2020-09-08 19:46:41  2e:ff:ee:92:a8:03\n",
       "38720       107056  2020-09-08 19:46:41  74:da:88:38:7f:2a\n",
       "25826       107056  2020-09-04 16:44:55  80:26:89:58:d9:6b\n",
       "25823       107056  2020-09-04 16:44:55  90:f6:52:ac:c3:c2\n",
       "...            ...                  ...                ...\n",
       "19207      4410632  2020-09-23 05:38:49  e8:65:d4:36:ec:30\n",
       "19206      4410632  2020-09-23 05:38:49  f0:b4:d2:81:30:e6\n",
       "19199      4410632  2020-09-23 05:38:49  f4:1d:6b:a5:88:70\n",
       "19202      4410632  2020-09-23 05:38:49  fc:a6:cd:96:cd:f8\n",
       "19198      4410632  2020-09-23 05:38:49  fc:a6:cd:96:e5:e0\n",
       "\n",
       "[58262 rows x 3 columns]"
      ]
     },
     "execution_count": 31,
     "metadata": {},
     "output_type": "execute_result"
    }
   ],
   "source": [
    "wifi_list = pd.read_csv(os.path.join(directory,'wifi_list_id.csv'))\n",
    "wifi_list = wifi_list[['customer_id','create_time','wifi_list']]\n",
    "wifi_list = wifi_list.sort_values(['customer_id','wifi_list','create_time'])\n",
    "wifi_list = wifi_list.drop_duplicates(['customer_id','wifi_list'])\n",
    "wifi_list"
   ]
  },
  {
   "cell_type": "code",
   "execution_count": 32,
   "metadata": {
    "scrolled": true
   },
   "outputs": [
    {
     "data": {
      "text/plain": [
       "(15405, 5)"
      ]
     },
     "execution_count": 32,
     "metadata": {},
     "output_type": "execute_result"
    }
   ],
   "source": [
    "user_wifi_list = pd.merge(users,wifi_list,how='inner',on='customer_id')\n",
    "user_wifi_list.shape"
   ]
  },
  {
   "cell_type": "code",
   "execution_count": null,
   "metadata": {
    "scrolled": true
   },
   "outputs": [],
   "source": []
  },
  {
   "cell_type": "code",
   "execution_count": null,
   "metadata": {},
   "outputs": [],
   "source": []
  },
  {
   "cell_type": "code",
   "execution_count": null,
   "metadata": {},
   "outputs": [],
   "source": []
  }
 ],
 "metadata": {
  "kernelspec": {
   "display_name": "Python 3",
   "language": "python",
   "name": "python3"
  },
  "language_info": {
   "codemirror_mode": {
    "name": "ipython",
    "version": 3
   },
   "file_extension": ".py",
   "mimetype": "text/x-python",
   "name": "python",
   "nbconvert_exporter": "python",
   "pygments_lexer": "ipython3",
   "version": "3.7.4"
  }
 },
 "nbformat": 4,
 "nbformat_minor": 2
}
