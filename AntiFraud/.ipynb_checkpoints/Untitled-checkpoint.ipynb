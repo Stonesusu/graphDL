{
 "cells": [
  {
   "cell_type": "code",
   "execution_count": 24,
   "metadata": {
    "scrolled": false
   },
   "outputs": [
    {
     "name": "stdout",
     "output_type": "stream",
     "text": [
      "Graph(num_nodes={'user': 1970, 'wifi': 15336},\n",
      "      num_edges={('user', 'relation', 'wifi'): 15405, ('wifi', 'relation-by', 'user'): 15405},\n",
      "      metagraph=[('user', 'wifi', 'relation'), ('wifi', 'user', 'relation-by')])\n",
      "Done!\n"
     ]
    },
    {
     "name": "stderr",
     "output_type": "stream",
     "text": [
      "Using backend: pytorch\n"
     ]
    }
   ],
   "source": [
    "!python precoss_dataset.py ../data/01_data_processed ./data.pkl"
   ]
  },
  {
   "cell_type": "code",
   "execution_count": 38,
   "metadata": {
    "scrolled": true
   },
   "outputs": [
    {
     "name": "stdout",
     "output_type": "stream",
     "text": [
      "{'train-graph': Graph(num_nodes={'user': 1970, 'wifi': 15336},\n",
      "      num_edges={('user', 'relation', 'wifi'): 15405, ('wifi', 'relation-by', 'user'): 15405},\n",
      "      metagraph=[('user', 'wifi', 'relation'), ('wifi', 'user', 'relation-by')]), 'train-indices': 1879      True\n",
      "5509      True\n",
      "34        True\n",
      "11620     True\n",
      "11178     True\n",
      "         ...  \n",
      "2581     False\n",
      "12062    False\n",
      "4732     False\n",
      "10606    False\n",
      "5566     False\n",
      "Name: train_mask, Length: 1970, dtype: bool, 'val-indices': 1879     False\n",
      "5509     False\n",
      "34       False\n",
      "11620    False\n",
      "11178    False\n",
      "         ...  \n",
      "2581     False\n",
      "12062    False\n",
      "4732     False\n",
      "10606    False\n",
      "5566     False\n",
      "Name: val_mask, Length: 1970, dtype: bool, 'test-indices': 1879     False\n",
      "5509     False\n",
      "34       False\n",
      "11620    False\n",
      "11178    False\n",
      "         ...  \n",
      "2581      True\n",
      "12062     True\n",
      "4732      True\n",
      "10606     True\n",
      "5566      True\n",
      "Name: test_mask, Length: 1970, dtype: bool, 'item-texts': {}, 'item-images': None, 'user-type': 'user', 'item-type': 'wifi', 'user-to-item-type': 'relation', 'item-to-user-type': 'relation-by', 'timestamp-edge-column': 'create_time'}\n",
      "{'_ID': tensor([ 0,  1,  2,  3,  4,  5,  6,  7,  8,  9, 10, 11, 12, 13, 14, 15, 16, 17,\n",
      "        18, 19, 20, 21, 22, 23, 24, 25, 26, 27, 28, 29, 30, 31]), 'label': tensor([0, 1, 0, 1, 1, 1, 1, 1, 1, 1, 1, 1, 1, 1, 1, 1, 1, 1, 1, 1, 1, 1, 1, 1,\n",
      "        1, 0, 1, 0, 1, 1, 1, 1]), 'h_embedding': tensor([[-0.7812,  0.4265,  0.0280,  ..., -0.5325, -0.5050,  1.0554],\n",
      "        [ 1.0912, -0.0354, -0.5687,  ...,  0.9016, -1.4689, -0.2687],\n",
      "        [ 0.1472,  1.4903,  0.0082,  ..., -0.8186,  0.2151, -0.6048],\n",
      "        ...,\n",
      "        [ 1.2318, -0.1805, -0.4107,  ..., -0.3803,  0.0040,  0.0403],\n",
      "        [-0.5336,  0.2126, -0.9137,  ...,  0.1967,  1.4101, -0.4124],\n",
      "        [ 1.7267, -0.9538, -0.1877,  ...,  0.0907, -0.6384,  1.7833]],\n",
      "       grad_fn=<IndexBackward>)}\n",
      "{'_ID': tensor([32, 33, 34, 35, 36, 37, 38, 39, 40, 41, 42, 43, 44, 45, 46, 47, 48, 49,\n",
      "        50, 51, 52, 53, 54, 55, 56, 57, 58, 59, 60, 61, 62, 63]), 'label': tensor([1, 0, 1, 0, 1, 1, 1, 1, 1, 1, 1, 1, 1, 1, 1, 1, 1, 1, 1, 1, 1, 1, 1, 1,\n",
      "        1, 1, 0, 1, 1, 1, 0, 1]), 'h_embedding': tensor([[-0.0934, -0.8574,  2.3444,  ..., -0.0973,  0.4910,  1.2588],\n",
      "        [-0.3517, -0.4331,  1.2758,  ..., -0.3354,  2.0349, -1.0249],\n",
      "        [-2.5365, -0.1465,  1.0111,  ...,  0.7311,  0.7567,  1.5951],\n",
      "        ...,\n",
      "        [ 0.2758,  0.6012, -0.4905,  ...,  1.1881,  0.5302,  0.2424],\n",
      "        [ 1.4650,  1.5430, -0.1010,  ..., -0.8444, -1.1404, -0.7847],\n",
      "        [ 0.1810,  0.6025, -0.1472,  ..., -0.8368,  1.3978,  1.2079]],\n",
      "       grad_fn=<IndexBackward>)}\n",
      "{'_ID': tensor([64, 65, 66, 67, 68, 69, 70, 71, 72, 73, 74, 75, 76, 77, 78, 79, 80, 81,\n",
      "        82, 83, 84, 85, 86, 87, 88, 89, 90, 91, 92, 93, 94, 95]), 'label': tensor([1, 0, 1, 1, 1, 1, 1, 1, 1, 1, 1, 1, 1, 1, 1, 1, 1, 1, 1, 0, 1, 1, 1, 1,\n",
      "        1, 1, 1, 1, 1, 1, 0, 1]), 'h_embedding': tensor([[-1.7892, -0.4752,  0.6891,  ...,  0.6477, -1.0442,  0.0121],\n",
      "        [ 1.6388, -0.9860,  0.2228,  ...,  1.1117,  0.2381, -0.3074],\n",
      "        [-0.0523,  1.1552, -0.1298,  ..., -0.0219,  1.4681, -0.7756],\n",
      "        ...,\n",
      "        [-0.4703, -0.7330, -0.5590,  ...,  0.5739,  1.0161, -0.4149],\n",
      "        [ 1.4948,  0.3025, -0.0350,  ...,  1.7998, -2.1022, -0.1824],\n",
      "        [-0.3145, -2.5411, -0.8035,  ..., -0.4877,  1.9283, -0.4556]],\n",
      "       grad_fn=<IndexBackward>)}\n",
      "{'_ID': tensor([ 96,  97,  98,  99, 100, 101, 102, 103, 104, 105, 106, 107, 108, 109,\n",
      "        110, 111, 112, 113, 114, 115, 116, 117, 118, 119, 120, 121, 122, 123,\n",
      "        124, 125, 126, 127]), 'label': tensor([1, 1, 1, 1, 1, 1, 1, 1, 1, 1, 1, 1, 1, 1, 1, 1, 1, 1, 1, 0, 1, 1, 1, 1,\n",
      "        1, 1, 1, 1, 1, 0, 1, 1]), 'h_embedding': tensor([[-0.6477, -2.0053,  0.4371,  ..., -1.5033, -0.0520, -0.5427],\n",
      "        [ 1.1407,  0.3711, -0.2919,  ..., -0.2542,  0.2013,  2.0065],\n",
      "        [ 0.1681, -0.6335,  0.3352,  ..., -0.0464,  0.4957, -0.5055],\n",
      "        ...,\n",
      "        [-0.9213, -0.3736, -0.2192,  ...,  0.7807, -0.4276,  2.7389],\n",
      "        [-1.4167, -0.7949,  1.8510,  ..., -0.5603, -0.7363, -0.1156],\n",
      "        [-0.2926,  0.8716, -1.3774,  ..., -0.2363,  1.1266, -0.5328]],\n",
      "       grad_fn=<IndexBackward>)}\n",
      "{'_ID': tensor([128, 129, 130, 131, 132, 133, 134, 135, 136, 137, 138, 139, 140, 141,\n",
      "        142, 143, 144, 145, 146, 147, 148, 149, 150, 151, 152, 153, 154, 155,\n",
      "        156, 157, 158, 159]), 'label': tensor([1, 1, 1, 1, 1, 1, 1, 1, 1, 1, 1, 1, 1, 1, 0, 1, 1, 1, 1, 1, 1, 0, 1, 1,\n",
      "        1, 1, 1, 0, 1, 1, 1, 1]), 'h_embedding': tensor([[ 0.1119,  0.7478, -0.2078,  ...,  0.7053, -0.9526, -0.5202],\n",
      "        [-0.0700,  0.5982, -0.3509,  ...,  0.4894,  0.4543, -1.1093],\n",
      "        [ 0.7425,  0.0210,  1.1778,  ...,  0.9938,  0.3586,  0.7615],\n",
      "        ...,\n",
      "        [-1.9076, -0.3305,  0.5729,  ...,  1.7873, -0.4762, -0.0224],\n",
      "        [-1.4231,  1.2336, -1.5313,  ..., -1.3407, -0.8994,  2.0034],\n",
      "        [-0.3990,  0.1700,  0.2383,  ..., -1.2272,  1.0857, -0.0441]],\n",
      "       grad_fn=<IndexBackward>)}\n"
     ]
    },
    {
     "name": "stderr",
     "output_type": "stream",
     "text": [
      "Using backend: pytorch\n",
      "\n",
      "  0%|          | 0/5 [00:00<?, ?it/s]\n",
      " 20%|██        | 1/5 [00:00<00:02,  1.38it/s]\n",
      " 80%|████████  | 4/5 [00:00<00:00,  1.92it/s]\n",
      "100%|██████████| 5/5 [00:00<00:00,  5.40it/s]\n"
     ]
    }
   ],
   "source": [
    "!python ./model.py ./data.pkl --num-epochs 300 --num-workers 0 --device cpu --hidden-dims 64"
   ]
  },
  {
   "cell_type": "code",
   "execution_count": null,
   "metadata": {},
   "outputs": [],
   "source": [
    "import dgl\n",
    "??dgl.NID"
   ]
  },
  {
   "cell_type": "code",
   "execution_count": 13,
   "metadata": {},
   "outputs": [],
   "source": [
    "import torch\n",
    "torch.nn.Module"
   ]
  },
  {
   "cell_type": "code",
   "execution_count": 81,
   "metadata": {},
   "outputs": [],
   "source": [
    "import numpy as np\n",
    "import pandas as pd\n",
    "import os"
   ]
  },
  {
   "cell_type": "code",
   "execution_count": 86,
   "metadata": {
    "scrolled": true
   },
   "outputs": [
    {
     "data": {
      "text/html": [
       "<div>\n",
       "<style scoped>\n",
       "    .dataframe tbody tr th:only-of-type {\n",
       "        vertical-align: middle;\n",
       "    }\n",
       "\n",
       "    .dataframe tbody tr th {\n",
       "        vertical-align: top;\n",
       "    }\n",
       "\n",
       "    .dataframe thead th {\n",
       "        text-align: right;\n",
       "    }\n",
       "</style>\n",
       "<table border=\"1\" class=\"dataframe\">\n",
       "  <thead>\n",
       "    <tr style=\"text-align: right;\">\n",
       "      <th></th>\n",
       "      <th>customer_id</th>\n",
       "      <th>trans_time</th>\n",
       "      <th>target</th>\n",
       "    </tr>\n",
       "  </thead>\n",
       "  <tbody>\n",
       "    <tr>\n",
       "      <td>0</td>\n",
       "      <td>862201</td>\n",
       "      <td>2020-07-13 18:05:08</td>\n",
       "      <td>1</td>\n",
       "    </tr>\n",
       "    <tr>\n",
       "      <td>1</td>\n",
       "      <td>4271399</td>\n",
       "      <td>2020-07-27 10:25:27</td>\n",
       "      <td>1</td>\n",
       "    </tr>\n",
       "    <tr>\n",
       "      <td>2</td>\n",
       "      <td>4284127</td>\n",
       "      <td>2020-08-01 09:15:17</td>\n",
       "      <td>1</td>\n",
       "    </tr>\n",
       "    <tr>\n",
       "      <td>3</td>\n",
       "      <td>4237165</td>\n",
       "      <td>2020-07-03 13:05:09</td>\n",
       "      <td>0</td>\n",
       "    </tr>\n",
       "    <tr>\n",
       "      <td>4</td>\n",
       "      <td>4091456</td>\n",
       "      <td>2020-06-12 19:05:11</td>\n",
       "      <td>0</td>\n",
       "    </tr>\n",
       "    <tr>\n",
       "      <td>...</td>\n",
       "      <td>...</td>\n",
       "      <td>...</td>\n",
       "      <td>...</td>\n",
       "    </tr>\n",
       "    <tr>\n",
       "      <td>12102</td>\n",
       "      <td>4235548</td>\n",
       "      <td>2020-07-17 11:35:05</td>\n",
       "      <td>1</td>\n",
       "    </tr>\n",
       "    <tr>\n",
       "      <td>12103</td>\n",
       "      <td>4290699</td>\n",
       "      <td>2020-08-05 21:40:08</td>\n",
       "      <td>1</td>\n",
       "    </tr>\n",
       "    <tr>\n",
       "      <td>12104</td>\n",
       "      <td>4281305</td>\n",
       "      <td>2020-07-30 03:20:02</td>\n",
       "      <td>1</td>\n",
       "    </tr>\n",
       "    <tr>\n",
       "      <td>12105</td>\n",
       "      <td>4268429</td>\n",
       "      <td>2020-07-21 16:05:05</td>\n",
       "      <td>1</td>\n",
       "    </tr>\n",
       "    <tr>\n",
       "      <td>12106</td>\n",
       "      <td>4286398</td>\n",
       "      <td>2020-08-02 16:30:08</td>\n",
       "      <td>1</td>\n",
       "    </tr>\n",
       "  </tbody>\n",
       "</table>\n",
       "<p>12107 rows × 3 columns</p>\n",
       "</div>"
      ],
      "text/plain": [
       "       customer_id           trans_time  target\n",
       "0           862201  2020-07-13 18:05:08       1\n",
       "1          4271399  2020-07-27 10:25:27       1\n",
       "2          4284127  2020-08-01 09:15:17       1\n",
       "3          4237165  2020-07-03 13:05:09       0\n",
       "4          4091456  2020-06-12 19:05:11       0\n",
       "...            ...                  ...     ...\n",
       "12102      4235548  2020-07-17 11:35:05       1\n",
       "12103      4290699  2020-08-05 21:40:08       1\n",
       "12104      4281305  2020-07-30 03:20:02       1\n",
       "12105      4268429  2020-07-21 16:05:05       1\n",
       "12106      4286398  2020-08-02 16:30:08       1\n",
       "\n",
       "[12107 rows x 3 columns]"
      ]
     },
     "execution_count": 86,
     "metadata": {},
     "output_type": "execute_result"
    }
   ],
   "source": [
    "directory = '../data/01_data_processed'\n",
    "users = pd.read_csv(os.path.join(directory,'user.csv'))\n",
    "users = users[['customer_id','trans_time','target']]\n",
    "users"
   ]
  },
  {
   "cell_type": "code",
   "execution_count": 87,
   "metadata": {},
   "outputs": [
    {
     "data": {
      "text/plain": [
       "('2020-06-01 01:00:43', '2020-08-06 21:35:06')"
      ]
     },
     "execution_count": 87,
     "metadata": {},
     "output_type": "execute_result"
    }
   ],
   "source": [
    "users.trans_time.min(),users.trans_time.max()"
   ]
  },
  {
   "cell_type": "code",
   "execution_count": 88,
   "metadata": {
    "scrolled": true
   },
   "outputs": [
    {
     "data": {
      "text/plain": [
       "0.13603700338647062"
      ]
     },
     "execution_count": 88,
     "metadata": {},
     "output_type": "execute_result"
    }
   ],
   "source": [
    "users.target.value_counts().loc[0]/users.shape[0]"
   ]
  },
  {
   "cell_type": "code",
   "execution_count": 91,
   "metadata": {
    "scrolled": true
   },
   "outputs": [
    {
     "data": {
      "text/html": [
       "<div>\n",
       "<style scoped>\n",
       "    .dataframe tbody tr th:only-of-type {\n",
       "        vertical-align: middle;\n",
       "    }\n",
       "\n",
       "    .dataframe tbody tr th {\n",
       "        vertical-align: top;\n",
       "    }\n",
       "\n",
       "    .dataframe thead th {\n",
       "        text-align: right;\n",
       "    }\n",
       "</style>\n",
       "<table border=\"1\" class=\"dataframe\">\n",
       "  <thead>\n",
       "    <tr style=\"text-align: right;\">\n",
       "      <th></th>\n",
       "      <th>customer_id</th>\n",
       "      <th>create_time</th>\n",
       "      <th>wifi_id</th>\n",
       "    </tr>\n",
       "  </thead>\n",
       "  <tbody>\n",
       "    <tr>\n",
       "      <td>25830</td>\n",
       "      <td>107056</td>\n",
       "      <td>2020-09-04 16:44:55</td>\n",
       "      <td>00:67:62:6d:02:e8</td>\n",
       "    </tr>\n",
       "    <tr>\n",
       "      <td>38719</td>\n",
       "      <td>107056</td>\n",
       "      <td>2020-09-08 19:46:41</td>\n",
       "      <td>2e:ff:ee:92:a8:03</td>\n",
       "    </tr>\n",
       "    <tr>\n",
       "      <td>38720</td>\n",
       "      <td>107056</td>\n",
       "      <td>2020-09-08 19:46:41</td>\n",
       "      <td>74:da:88:38:7f:2a</td>\n",
       "    </tr>\n",
       "    <tr>\n",
       "      <td>25826</td>\n",
       "      <td>107056</td>\n",
       "      <td>2020-09-04 16:44:55</td>\n",
       "      <td>80:26:89:58:d9:6b</td>\n",
       "    </tr>\n",
       "    <tr>\n",
       "      <td>25823</td>\n",
       "      <td>107056</td>\n",
       "      <td>2020-09-04 16:44:55</td>\n",
       "      <td>90:f6:52:ac:c3:c2</td>\n",
       "    </tr>\n",
       "    <tr>\n",
       "      <td>...</td>\n",
       "      <td>...</td>\n",
       "      <td>...</td>\n",
       "      <td>...</td>\n",
       "    </tr>\n",
       "    <tr>\n",
       "      <td>19207</td>\n",
       "      <td>4410632</td>\n",
       "      <td>2020-09-23 05:38:49</td>\n",
       "      <td>e8:65:d4:36:ec:30</td>\n",
       "    </tr>\n",
       "    <tr>\n",
       "      <td>19206</td>\n",
       "      <td>4410632</td>\n",
       "      <td>2020-09-23 05:38:49</td>\n",
       "      <td>f0:b4:d2:81:30:e6</td>\n",
       "    </tr>\n",
       "    <tr>\n",
       "      <td>19199</td>\n",
       "      <td>4410632</td>\n",
       "      <td>2020-09-23 05:38:49</td>\n",
       "      <td>f4:1d:6b:a5:88:70</td>\n",
       "    </tr>\n",
       "    <tr>\n",
       "      <td>19202</td>\n",
       "      <td>4410632</td>\n",
       "      <td>2020-09-23 05:38:49</td>\n",
       "      <td>fc:a6:cd:96:cd:f8</td>\n",
       "    </tr>\n",
       "    <tr>\n",
       "      <td>19198</td>\n",
       "      <td>4410632</td>\n",
       "      <td>2020-09-23 05:38:49</td>\n",
       "      <td>fc:a6:cd:96:e5:e0</td>\n",
       "    </tr>\n",
       "  </tbody>\n",
       "</table>\n",
       "<p>58262 rows × 3 columns</p>\n",
       "</div>"
      ],
      "text/plain": [
       "       customer_id          create_time            wifi_id\n",
       "25830       107056  2020-09-04 16:44:55  00:67:62:6d:02:e8\n",
       "38719       107056  2020-09-08 19:46:41  2e:ff:ee:92:a8:03\n",
       "38720       107056  2020-09-08 19:46:41  74:da:88:38:7f:2a\n",
       "25826       107056  2020-09-04 16:44:55  80:26:89:58:d9:6b\n",
       "25823       107056  2020-09-04 16:44:55  90:f6:52:ac:c3:c2\n",
       "...            ...                  ...                ...\n",
       "19207      4410632  2020-09-23 05:38:49  e8:65:d4:36:ec:30\n",
       "19206      4410632  2020-09-23 05:38:49  f0:b4:d2:81:30:e6\n",
       "19199      4410632  2020-09-23 05:38:49  f4:1d:6b:a5:88:70\n",
       "19202      4410632  2020-09-23 05:38:49  fc:a6:cd:96:cd:f8\n",
       "19198      4410632  2020-09-23 05:38:49  fc:a6:cd:96:e5:e0\n",
       "\n",
       "[58262 rows x 3 columns]"
      ]
     },
     "execution_count": 91,
     "metadata": {},
     "output_type": "execute_result"
    }
   ],
   "source": [
    "wifi_list = pd.read_csv(os.path.join(directory,'wifi_list_id.csv'))\n",
    "wifi_list = wifi_list[['customer_id','create_time','wifi_list']]\n",
    "wifi_list = wifi_list.sort_values(['customer_id','wifi_list','create_time'])\n",
    "wifi_list = wifi_list.drop_duplicates(['customer_id','wifi_list'])\n",
    "wifi_list = wifi_list.rename(columns={'wifi_list':'wifi_id'})\n",
    "wifi_list"
   ]
  },
  {
   "cell_type": "code",
   "execution_count": 92,
   "metadata": {
    "scrolled": true
   },
   "outputs": [
    {
     "data": {
      "text/plain": [
       "(15405, 5)"
      ]
     },
     "execution_count": 92,
     "metadata": {},
     "output_type": "execute_result"
    }
   ],
   "source": [
    "user_wifi_list = pd.merge(users,wifi_list,how='inner',on='customer_id')\n",
    "user_wifi_list.shape"
   ]
  },
  {
   "cell_type": "code",
   "execution_count": 93,
   "metadata": {
    "scrolled": true
   },
   "outputs": [
    {
     "data": {
      "text/plain": [
       "(15405, 5)"
      ]
     },
     "execution_count": 93,
     "metadata": {},
     "output_type": "execute_result"
    }
   ],
   "source": [
    "user_wifi_list[user_wifi_list['trans_time']>user_wifi_list['create_time']].shape"
   ]
  },
  {
   "cell_type": "code",
   "execution_count": 94,
   "metadata": {},
   "outputs": [
    {
     "data": {
      "text/html": [
       "<div>\n",
       "<style scoped>\n",
       "    .dataframe tbody tr th:only-of-type {\n",
       "        vertical-align: middle;\n",
       "    }\n",
       "\n",
       "    .dataframe tbody tr th {\n",
       "        vertical-align: top;\n",
       "    }\n",
       "\n",
       "    .dataframe thead th {\n",
       "        text-align: right;\n",
       "    }\n",
       "</style>\n",
       "<table border=\"1\" class=\"dataframe\">\n",
       "  <thead>\n",
       "    <tr style=\"text-align: right;\">\n",
       "      <th></th>\n",
       "      <th>customer_id</th>\n",
       "      <th>trans_time</th>\n",
       "      <th>target</th>\n",
       "      <th>create_time</th>\n",
       "      <th>wifi_id</th>\n",
       "    </tr>\n",
       "  </thead>\n",
       "  <tbody>\n",
       "    <tr>\n",
       "      <td>0</td>\n",
       "      <td>4202015</td>\n",
       "      <td>2020-06-27 06:35:10</td>\n",
       "      <td>1</td>\n",
       "      <td>2020-06-24 16:22:09</td>\n",
       "      <td>0c:98:38:a9:f0:6d</td>\n",
       "    </tr>\n",
       "    <tr>\n",
       "      <td>1</td>\n",
       "      <td>4202015</td>\n",
       "      <td>2020-06-27 06:35:10</td>\n",
       "      <td>1</td>\n",
       "      <td>2020-06-24 16:22:09</td>\n",
       "      <td>0e:a8:a7:5d:ca:34</td>\n",
       "    </tr>\n",
       "    <tr>\n",
       "      <td>2</td>\n",
       "      <td>4202015</td>\n",
       "      <td>2020-06-27 06:35:10</td>\n",
       "      <td>1</td>\n",
       "      <td>2020-06-24 16:22:09</td>\n",
       "      <td>74:5b:c5:43:1f:9c</td>\n",
       "    </tr>\n",
       "    <tr>\n",
       "      <td>3</td>\n",
       "      <td>4202015</td>\n",
       "      <td>2020-06-27 06:35:10</td>\n",
       "      <td>1</td>\n",
       "      <td>2020-06-24 16:22:09</td>\n",
       "      <td>9a:c8:b8:90:5c:9b</td>\n",
       "    </tr>\n",
       "    <tr>\n",
       "      <td>4</td>\n",
       "      <td>4202015</td>\n",
       "      <td>2020-06-27 06:35:10</td>\n",
       "      <td>1</td>\n",
       "      <td>2020-06-24 16:22:09</td>\n",
       "      <td>f0:8c:fb:29:13:f0</td>\n",
       "    </tr>\n",
       "    <tr>\n",
       "      <td>...</td>\n",
       "      <td>...</td>\n",
       "      <td>...</td>\n",
       "      <td>...</td>\n",
       "      <td>...</td>\n",
       "      <td>...</td>\n",
       "    </tr>\n",
       "    <tr>\n",
       "      <td>15400</td>\n",
       "      <td>4235548</td>\n",
       "      <td>2020-07-17 11:35:05</td>\n",
       "      <td>1</td>\n",
       "      <td>2020-07-03 09:53:07</td>\n",
       "      <td>a0:ab:1b:70:ed:1c</td>\n",
       "    </tr>\n",
       "    <tr>\n",
       "      <td>15401</td>\n",
       "      <td>4235548</td>\n",
       "      <td>2020-07-17 11:35:05</td>\n",
       "      <td>1</td>\n",
       "      <td>2020-07-16 12:03:21</td>\n",
       "      <td>b4:e9:b0:9e:95:40</td>\n",
       "    </tr>\n",
       "    <tr>\n",
       "      <td>15402</td>\n",
       "      <td>4235548</td>\n",
       "      <td>2020-07-17 11:35:05</td>\n",
       "      <td>1</td>\n",
       "      <td>2020-07-16 12:03:21</td>\n",
       "      <td>b4:e9:b0:9e:95:4e</td>\n",
       "    </tr>\n",
       "    <tr>\n",
       "      <td>15403</td>\n",
       "      <td>4235548</td>\n",
       "      <td>2020-07-17 11:35:05</td>\n",
       "      <td>1</td>\n",
       "      <td>2020-07-16 12:03:21</td>\n",
       "      <td>b4:e9:b0:9e:95:4f</td>\n",
       "    </tr>\n",
       "    <tr>\n",
       "      <td>15404</td>\n",
       "      <td>4235548</td>\n",
       "      <td>2020-07-17 11:35:05</td>\n",
       "      <td>1</td>\n",
       "      <td>2020-07-03 09:53:07</td>\n",
       "      <td>e4:ca:12:cd:e8:15</td>\n",
       "    </tr>\n",
       "  </tbody>\n",
       "</table>\n",
       "<p>15405 rows × 5 columns</p>\n",
       "</div>"
      ],
      "text/plain": [
       "       customer_id           trans_time  target          create_time  \\\n",
       "0          4202015  2020-06-27 06:35:10       1  2020-06-24 16:22:09   \n",
       "1          4202015  2020-06-27 06:35:10       1  2020-06-24 16:22:09   \n",
       "2          4202015  2020-06-27 06:35:10       1  2020-06-24 16:22:09   \n",
       "3          4202015  2020-06-27 06:35:10       1  2020-06-24 16:22:09   \n",
       "4          4202015  2020-06-27 06:35:10       1  2020-06-24 16:22:09   \n",
       "...            ...                  ...     ...                  ...   \n",
       "15400      4235548  2020-07-17 11:35:05       1  2020-07-03 09:53:07   \n",
       "15401      4235548  2020-07-17 11:35:05       1  2020-07-16 12:03:21   \n",
       "15402      4235548  2020-07-17 11:35:05       1  2020-07-16 12:03:21   \n",
       "15403      4235548  2020-07-17 11:35:05       1  2020-07-16 12:03:21   \n",
       "15404      4235548  2020-07-17 11:35:05       1  2020-07-03 09:53:07   \n",
       "\n",
       "                 wifi_id  \n",
       "0      0c:98:38:a9:f0:6d  \n",
       "1      0e:a8:a7:5d:ca:34  \n",
       "2      74:5b:c5:43:1f:9c  \n",
       "3      9a:c8:b8:90:5c:9b  \n",
       "4      f0:8c:fb:29:13:f0  \n",
       "...                  ...  \n",
       "15400  a0:ab:1b:70:ed:1c  \n",
       "15401  b4:e9:b0:9e:95:40  \n",
       "15402  b4:e9:b0:9e:95:4e  \n",
       "15403  b4:e9:b0:9e:95:4f  \n",
       "15404  e4:ca:12:cd:e8:15  \n",
       "\n",
       "[15405 rows x 5 columns]"
      ]
     },
     "execution_count": 94,
     "metadata": {},
     "output_type": "execute_result"
    }
   ],
   "source": [
    "user_wifi_list"
   ]
  },
  {
   "cell_type": "code",
   "execution_count": 95,
   "metadata": {},
   "outputs": [],
   "source": [
    "distinct_users_in_relation = wifi_list['customer_id'].unique()\n",
    "distinct_wifi_in_relation = wifi_list['wifi_id'].unique()\n",
    "users = users[users['customer_id'].isin(distinct_users_in_relation)]\n",
    "wifi_list = wifi_list[wifi_list['wifi_id'].isin(distinct_wifi_in_relation)]"
   ]
  },
  {
   "cell_type": "code",
   "execution_count": 97,
   "metadata": {},
   "outputs": [
    {
     "data": {
      "text/plain": [
       "(1970, 3)"
      ]
     },
     "execution_count": 97,
     "metadata": {},
     "output_type": "execute_result"
    }
   ],
   "source": [
    "users.shape"
   ]
  },
  {
   "cell_type": "code",
   "execution_count": 98,
   "metadata": {},
   "outputs": [
    {
     "data": {
      "text/plain": [
       "1    1713\n",
       "0     257\n",
       "Name: target, dtype: int64"
      ]
     },
     "execution_count": 98,
     "metadata": {},
     "output_type": "execute_result"
    }
   ],
   "source": [
    "users.target.value_counts()"
   ]
  },
  {
   "cell_type": "code",
   "execution_count": 99,
   "metadata": {},
   "outputs": [
    {
     "data": {
      "text/plain": [
       "0.1304568527918782"
      ]
     },
     "execution_count": 99,
     "metadata": {},
     "output_type": "execute_result"
    }
   ],
   "source": [
    "users.target.value_counts().loc[0]/users.shape[0]"
   ]
  },
  {
   "cell_type": "code",
   "execution_count": 59,
   "metadata": {},
   "outputs": [
    {
     "data": {
      "text/plain": [
       "(58262, 3)"
      ]
     },
     "execution_count": 59,
     "metadata": {},
     "output_type": "execute_result"
    }
   ],
   "source": [
    "wifi_list.shape"
   ]
  },
  {
   "cell_type": "code",
   "execution_count": 70,
   "metadata": {},
   "outputs": [
    {
     "data": {
      "text/plain": [
       "(57620, 3)"
      ]
     },
     "execution_count": 70,
     "metadata": {},
     "output_type": "execute_result"
    }
   ],
   "source": [
    "wifi_list.drop_duplicates('wifi_id').shape"
   ]
  },
  {
   "cell_type": "code",
   "execution_count": 71,
   "metadata": {
    "scrolled": true
   },
   "outputs": [
    {
     "data": {
      "text/html": [
       "<div>\n",
       "<style scoped>\n",
       "    .dataframe tbody tr th:only-of-type {\n",
       "        vertical-align: middle;\n",
       "    }\n",
       "\n",
       "    .dataframe tbody tr th {\n",
       "        vertical-align: top;\n",
       "    }\n",
       "\n",
       "    .dataframe thead th {\n",
       "        text-align: right;\n",
       "    }\n",
       "</style>\n",
       "<table border=\"1\" class=\"dataframe\">\n",
       "  <thead>\n",
       "    <tr style=\"text-align: right;\">\n",
       "      <th></th>\n",
       "      <th>customer_id</th>\n",
       "      <th>create_time</th>\n",
       "      <th>wifi_id</th>\n",
       "    </tr>\n",
       "  </thead>\n",
       "  <tbody>\n",
       "    <tr>\n",
       "      <td>25830</td>\n",
       "      <td>107056</td>\n",
       "      <td>2020-09-04 16:44:55</td>\n",
       "      <td>00:67:62:6d:02:e8</td>\n",
       "    </tr>\n",
       "    <tr>\n",
       "      <td>38719</td>\n",
       "      <td>107056</td>\n",
       "      <td>2020-09-08 19:46:41</td>\n",
       "      <td>2e:ff:ee:92:a8:03</td>\n",
       "    </tr>\n",
       "    <tr>\n",
       "      <td>38720</td>\n",
       "      <td>107056</td>\n",
       "      <td>2020-09-08 19:46:41</td>\n",
       "      <td>74:da:88:38:7f:2a</td>\n",
       "    </tr>\n",
       "    <tr>\n",
       "      <td>25826</td>\n",
       "      <td>107056</td>\n",
       "      <td>2020-09-04 16:44:55</td>\n",
       "      <td>80:26:89:58:d9:6b</td>\n",
       "    </tr>\n",
       "    <tr>\n",
       "      <td>25823</td>\n",
       "      <td>107056</td>\n",
       "      <td>2020-09-04 16:44:55</td>\n",
       "      <td>90:f6:52:ac:c3:c2</td>\n",
       "    </tr>\n",
       "    <tr>\n",
       "      <td>...</td>\n",
       "      <td>...</td>\n",
       "      <td>...</td>\n",
       "      <td>...</td>\n",
       "    </tr>\n",
       "    <tr>\n",
       "      <td>19207</td>\n",
       "      <td>4410632</td>\n",
       "      <td>2020-09-23 05:38:49</td>\n",
       "      <td>e8:65:d4:36:ec:30</td>\n",
       "    </tr>\n",
       "    <tr>\n",
       "      <td>19206</td>\n",
       "      <td>4410632</td>\n",
       "      <td>2020-09-23 05:38:49</td>\n",
       "      <td>f0:b4:d2:81:30:e6</td>\n",
       "    </tr>\n",
       "    <tr>\n",
       "      <td>19199</td>\n",
       "      <td>4410632</td>\n",
       "      <td>2020-09-23 05:38:49</td>\n",
       "      <td>f4:1d:6b:a5:88:70</td>\n",
       "    </tr>\n",
       "    <tr>\n",
       "      <td>19202</td>\n",
       "      <td>4410632</td>\n",
       "      <td>2020-09-23 05:38:49</td>\n",
       "      <td>fc:a6:cd:96:cd:f8</td>\n",
       "    </tr>\n",
       "    <tr>\n",
       "      <td>19198</td>\n",
       "      <td>4410632</td>\n",
       "      <td>2020-09-23 05:38:49</td>\n",
       "      <td>fc:a6:cd:96:e5:e0</td>\n",
       "    </tr>\n",
       "  </tbody>\n",
       "</table>\n",
       "<p>58262 rows × 3 columns</p>\n",
       "</div>"
      ],
      "text/plain": [
       "       customer_id          create_time            wifi_id\n",
       "25830       107056  2020-09-04 16:44:55  00:67:62:6d:02:e8\n",
       "38719       107056  2020-09-08 19:46:41  2e:ff:ee:92:a8:03\n",
       "38720       107056  2020-09-08 19:46:41  74:da:88:38:7f:2a\n",
       "25826       107056  2020-09-04 16:44:55  80:26:89:58:d9:6b\n",
       "25823       107056  2020-09-04 16:44:55  90:f6:52:ac:c3:c2\n",
       "...            ...                  ...                ...\n",
       "19207      4410632  2020-09-23 05:38:49  e8:65:d4:36:ec:30\n",
       "19206      4410632  2020-09-23 05:38:49  f0:b4:d2:81:30:e6\n",
       "19199      4410632  2020-09-23 05:38:49  f4:1d:6b:a5:88:70\n",
       "19202      4410632  2020-09-23 05:38:49  fc:a6:cd:96:cd:f8\n",
       "19198      4410632  2020-09-23 05:38:49  fc:a6:cd:96:e5:e0\n",
       "\n",
       "[58262 rows x 3 columns]"
      ]
     },
     "execution_count": 71,
     "metadata": {},
     "output_type": "execute_result"
    }
   ],
   "source": [
    "wifi_list"
   ]
  },
  {
   "cell_type": "code",
   "execution_count": 61,
   "metadata": {},
   "outputs": [
    {
     "name": "stdout",
     "output_type": "stream",
     "text": [
      "6        4202015\n",
      "16       4291583\n",
      "22        880193\n",
      "23       4148588\n",
      "34       4220955\n",
      "          ...   \n",
      "12079    4121737\n",
      "12084    4119054\n",
      "12088    1315610\n",
      "12091    4286858\n",
      "12102    4235548\n",
      "Name: customer_id, Length: 1970, dtype: category\n",
      "Categories (1970, int64): [152917, 160937, 173091, 174326, ..., 4291897, 4291937, 4291980, 4291982]\n"
     ]
    }
   ],
   "source": [
    "entities = users['customer_id'].astype('category')\n",
    "print(entities)\n",
    "if not (entities.value_counts() == 1).all():\n",
    "    raise ValueError('Different entity with the same primary key detected.')"
   ]
  },
  {
   "cell_type": "code",
   "execution_count": 69,
   "metadata": {
    "scrolled": true
   },
   "outputs": [
    {
     "name": "stdout",
     "output_type": "stream",
     "text": [
      "25830    00:67:62:6d:02:e8\n",
      "38719    2e:ff:ee:92:a8:03\n",
      "38720    74:da:88:38:7f:2a\n",
      "25826    80:26:89:58:d9:6b\n",
      "25823    90:f6:52:ac:c3:c2\n",
      "               ...        \n",
      "19207    e8:65:d4:36:ec:30\n",
      "19206    f0:b4:d2:81:30:e6\n",
      "19199    f4:1d:6b:a5:88:70\n",
      "19202    fc:a6:cd:96:cd:f8\n",
      "19198    fc:a6:cd:96:e5:e0\n",
      "Name: wifi_id, Length: 58262, dtype: category\n",
      "Categories (57620, object): [00:00:00:00:00:00, 00:01:23:01:4c:d0, 00:01:23:05:7e:08, 00:01:23:05:7f:a0, ..., fe:ec:da:f2:5b:f3, fe:ec:da:f2:5e:9f, fe:ec:da:f2:9f:17, fe:f9:d5:35:d9:5d]\n"
     ]
    },
    {
     "ename": "ValueError",
     "evalue": "Different entity with the same primary key detected.",
     "output_type": "error",
     "traceback": [
      "\u001b[1;31m---------------------------------------------------------------------------\u001b[0m",
      "\u001b[1;31mValueError\u001b[0m                                Traceback (most recent call last)",
      "\u001b[1;32m<ipython-input-69-0caee4d313b8>\u001b[0m in \u001b[0;36m<module>\u001b[1;34m\u001b[0m\n\u001b[0;32m      2\u001b[0m \u001b[0mprint\u001b[0m\u001b[1;33m(\u001b[0m\u001b[0mentities\u001b[0m\u001b[1;33m)\u001b[0m\u001b[1;33m\u001b[0m\u001b[1;33m\u001b[0m\u001b[0m\n\u001b[0;32m      3\u001b[0m \u001b[1;32mif\u001b[0m \u001b[1;32mnot\u001b[0m \u001b[1;33m(\u001b[0m\u001b[0mentities\u001b[0m\u001b[1;33m.\u001b[0m\u001b[0mvalue_counts\u001b[0m\u001b[1;33m(\u001b[0m\u001b[1;33m)\u001b[0m \u001b[1;33m==\u001b[0m \u001b[1;36m1\u001b[0m\u001b[1;33m)\u001b[0m\u001b[1;33m.\u001b[0m\u001b[0mall\u001b[0m\u001b[1;33m(\u001b[0m\u001b[1;33m)\u001b[0m\u001b[1;33m:\u001b[0m\u001b[1;33m\u001b[0m\u001b[1;33m\u001b[0m\u001b[0m\n\u001b[1;32m----> 4\u001b[1;33m     \u001b[1;32mraise\u001b[0m \u001b[0mValueError\u001b[0m\u001b[1;33m(\u001b[0m\u001b[1;34m'Different entity with the same primary key detected.'\u001b[0m\u001b[1;33m)\u001b[0m\u001b[1;33m\u001b[0m\u001b[1;33m\u001b[0m\u001b[0m\n\u001b[0m",
      "\u001b[1;31mValueError\u001b[0m: Different entity with the same primary key detected."
     ]
    }
   ],
   "source": [
    "entities = wifi_list['wifi_id'].astype('category')\n",
    "print(entities)\n",
    "if not (entities.value_counts() == 1).all():\n",
    "    raise ValueError('Different entity with the same primary key detected.')"
   ]
  },
  {
   "cell_type": "code",
   "execution_count": null,
   "metadata": {},
   "outputs": [],
   "source": []
  }
 ],
 "metadata": {
  "kernelspec": {
   "display_name": "Python 3",
   "language": "python",
   "name": "python3"
  },
  "language_info": {
   "codemirror_mode": {
    "name": "ipython",
    "version": 3
   },
   "file_extension": ".py",
   "mimetype": "text/x-python",
   "name": "python",
   "nbconvert_exporter": "python",
   "pygments_lexer": "ipython3",
   "version": "3.7.4"
  }
 },
 "nbformat": 4,
 "nbformat_minor": 2
}
