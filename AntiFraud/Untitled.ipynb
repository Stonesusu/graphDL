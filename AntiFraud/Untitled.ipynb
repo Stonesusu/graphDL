{
 "cells": [
  {
   "cell_type": "code",
   "execution_count": 72,
   "metadata": {
    "scrolled": false
   },
   "outputs": [
    {
     "name": "stdout",
     "output_type": "stream",
     "text": [
      "Graph(num_nodes={'user': 1970, 'wifi': 15336},\n",
      "      num_edges={('user', 'relation', 'wifi'): 15405, ('wifi', 'relation-by', 'user'): 15405},\n",
      "      metagraph=[('user', 'wifi', 'relation'), ('wifi', 'user', 'relation-by')])\n",
      "Done!\n"
     ]
    },
    {
     "name": "stderr",
     "output_type": "stream",
     "text": [
      "Using backend: pytorch\n"
     ]
    }
   ],
   "source": [
    "!python precoss_dataset.py ../data/01_data_processed ./data.pkl"
   ]
  },
  {
   "cell_type": "code",
   "execution_count": 73,
   "metadata": {
    "scrolled": true
   },
   "outputs": [
    {
     "name": "stdout",
     "output_type": "stream",
     "text": [
      "{'train-graph': Graph(num_nodes={'user': 1970, 'wifi': 15336},\n",
      "      num_edges={('user', 'relation', 'wifi'): 15405, ('wifi', 'relation-by', 'user'): 15405},\n",
      "      metagraph=[('user', 'wifi', 'relation'), ('wifi', 'user', 'relation-by')]), 'train-indices': 1879      True\n",
      "5509      True\n",
      "34        True\n",
      "11620     True\n",
      "11178     True\n",
      "         ...  \n",
      "2581     False\n",
      "12062    False\n",
      "4732     False\n",
      "10606    False\n",
      "5566     False\n",
      "Name: train_mask, Length: 1970, dtype: bool, 'val-indices': 1879     False\n",
      "5509     False\n",
      "34       False\n",
      "11620    False\n",
      "11178    False\n",
      "         ...  \n",
      "2581     False\n",
      "12062    False\n",
      "4732     False\n",
      "10606    False\n",
      "5566     False\n",
      "Name: val_mask, Length: 1970, dtype: bool, 'test-indices': 1879     False\n",
      "5509     False\n",
      "34       False\n",
      "11620    False\n",
      "11178    False\n",
      "         ...  \n",
      "2581      True\n",
      "12062     True\n",
      "4732      True\n",
      "10606     True\n",
      "5566      True\n",
      "Name: test_mask, Length: 1970, dtype: bool, 'item-texts': {}, 'item-images': None, 'user-type': 'user', 'item-type': 'wifi', 'user-to-item-type': 'relation', 'item-to-user-type': 'relation-by', 'timestamp-edge-column': 'create_time'}\n",
      "*************************************\n",
      "{'weights': tensor([14, 17, 15, 15, 13, 15, 16, 15, 14, 17, 12, 12, 15, 15, 13, 16, 17, 15,\n",
      "        16, 16, 14, 16, 14, 17, 15, 16, 15, 16, 16, 13, 13, 13]), '_ID': tensor([ 0,  1,  2,  3,  4,  5,  6,  7,  8,  9, 10, 11, 12, 13, 14, 15, 16, 17,\n",
      "        18, 19, 20, 21, 22, 23, 24, 25, 26, 27, 28, 29, 30, 31])}\n"
     ]
    },
    {
     "name": "stderr",
     "output_type": "stream",
     "text": [
      "Using backend: pytorch\n",
      "\n",
      "  0%|          | 0/5 [00:00<?, ?it/s]\n",
      " 60%|██████    | 3/5 [00:00<00:00, 21.49it/s]\n",
      "100%|██████████| 5/5 [00:00<00:00, 20.90it/s]\n",
      "100%|██████████| 5/5 [00:00<00:00, 20.63it/s]\n"
     ]
    }
   ],
   "source": [
    "!python ./model.py ./data.pkl --num-epochs 300 --num-workers 0 --device cpu --hidden-dims 64"
   ]
  },
  {
   "cell_type": "code",
   "execution_count": null,
   "metadata": {},
   "outputs": [],
   "source": [
    "import dgl\n",
    "??dgl.NID"
   ]
  },
  {
   "cell_type": "code",
   "execution_count": 13,
   "metadata": {},
   "outputs": [],
   "source": [
    "import torch\n",
    "torch.nn.Module"
   ]
  },
  {
   "cell_type": "code",
   "execution_count": 81,
   "metadata": {},
   "outputs": [],
   "source": [
    "import numpy as np\n",
    "import pandas as pd\n",
    "import os"
   ]
  },
  {
   "cell_type": "code",
   "execution_count": 86,
   "metadata": {
    "scrolled": true
   },
   "outputs": [
    {
     "data": {
      "text/html": [
       "<div>\n",
       "<style scoped>\n",
       "    .dataframe tbody tr th:only-of-type {\n",
       "        vertical-align: middle;\n",
       "    }\n",
       "\n",
       "    .dataframe tbody tr th {\n",
       "        vertical-align: top;\n",
       "    }\n",
       "\n",
       "    .dataframe thead th {\n",
       "        text-align: right;\n",
       "    }\n",
       "</style>\n",
       "<table border=\"1\" class=\"dataframe\">\n",
       "  <thead>\n",
       "    <tr style=\"text-align: right;\">\n",
       "      <th></th>\n",
       "      <th>customer_id</th>\n",
       "      <th>trans_time</th>\n",
       "      <th>target</th>\n",
       "    </tr>\n",
       "  </thead>\n",
       "  <tbody>\n",
       "    <tr>\n",
       "      <td>0</td>\n",
       "      <td>862201</td>\n",
       "      <td>2020-07-13 18:05:08</td>\n",
       "      <td>1</td>\n",
       "    </tr>\n",
       "    <tr>\n",
       "      <td>1</td>\n",
       "      <td>4271399</td>\n",
       "      <td>2020-07-27 10:25:27</td>\n",
       "      <td>1</td>\n",
       "    </tr>\n",
       "    <tr>\n",
       "      <td>2</td>\n",
       "      <td>4284127</td>\n",
       "      <td>2020-08-01 09:15:17</td>\n",
       "      <td>1</td>\n",
       "    </tr>\n",
       "    <tr>\n",
       "      <td>3</td>\n",
       "      <td>4237165</td>\n",
       "      <td>2020-07-03 13:05:09</td>\n",
       "      <td>0</td>\n",
       "    </tr>\n",
       "    <tr>\n",
       "      <td>4</td>\n",
       "      <td>4091456</td>\n",
       "      <td>2020-06-12 19:05:11</td>\n",
       "      <td>0</td>\n",
       "    </tr>\n",
       "    <tr>\n",
       "      <td>...</td>\n",
       "      <td>...</td>\n",
       "      <td>...</td>\n",
       "      <td>...</td>\n",
       "    </tr>\n",
       "    <tr>\n",
       "      <td>12102</td>\n",
       "      <td>4235548</td>\n",
       "      <td>2020-07-17 11:35:05</td>\n",
       "      <td>1</td>\n",
       "    </tr>\n",
       "    <tr>\n",
       "      <td>12103</td>\n",
       "      <td>4290699</td>\n",
       "      <td>2020-08-05 21:40:08</td>\n",
       "      <td>1</td>\n",
       "    </tr>\n",
       "    <tr>\n",
       "      <td>12104</td>\n",
       "      <td>4281305</td>\n",
       "      <td>2020-07-30 03:20:02</td>\n",
       "      <td>1</td>\n",
       "    </tr>\n",
       "    <tr>\n",
       "      <td>12105</td>\n",
       "      <td>4268429</td>\n",
       "      <td>2020-07-21 16:05:05</td>\n",
       "      <td>1</td>\n",
       "    </tr>\n",
       "    <tr>\n",
       "      <td>12106</td>\n",
       "      <td>4286398</td>\n",
       "      <td>2020-08-02 16:30:08</td>\n",
       "      <td>1</td>\n",
       "    </tr>\n",
       "  </tbody>\n",
       "</table>\n",
       "<p>12107 rows × 3 columns</p>\n",
       "</div>"
      ],
      "text/plain": [
       "       customer_id           trans_time  target\n",
       "0           862201  2020-07-13 18:05:08       1\n",
       "1          4271399  2020-07-27 10:25:27       1\n",
       "2          4284127  2020-08-01 09:15:17       1\n",
       "3          4237165  2020-07-03 13:05:09       0\n",
       "4          4091456  2020-06-12 19:05:11       0\n",
       "...            ...                  ...     ...\n",
       "12102      4235548  2020-07-17 11:35:05       1\n",
       "12103      4290699  2020-08-05 21:40:08       1\n",
       "12104      4281305  2020-07-30 03:20:02       1\n",
       "12105      4268429  2020-07-21 16:05:05       1\n",
       "12106      4286398  2020-08-02 16:30:08       1\n",
       "\n",
       "[12107 rows x 3 columns]"
      ]
     },
     "execution_count": 86,
     "metadata": {},
     "output_type": "execute_result"
    }
   ],
   "source": [
    "directory = '../data/01_data_processed'\n",
    "users = pd.read_csv(os.path.join(directory,'user.csv'))\n",
    "users = users[['customer_id','trans_time','target']]\n",
    "users"
   ]
  },
  {
   "cell_type": "code",
   "execution_count": 87,
   "metadata": {},
   "outputs": [
    {
     "data": {
      "text/plain": [
       "('2020-06-01 01:00:43', '2020-08-06 21:35:06')"
      ]
     },
     "execution_count": 87,
     "metadata": {},
     "output_type": "execute_result"
    }
   ],
   "source": [
    "users.trans_time.min(),users.trans_time.max()"
   ]
  },
  {
   "cell_type": "code",
   "execution_count": 88,
   "metadata": {
    "scrolled": true
   },
   "outputs": [
    {
     "data": {
      "text/plain": [
       "0.13603700338647062"
      ]
     },
     "execution_count": 88,
     "metadata": {},
     "output_type": "execute_result"
    }
   ],
   "source": [
    "users.target.value_counts().loc[0]/users.shape[0]"
   ]
  },
  {
   "cell_type": "code",
   "execution_count": 91,
   "metadata": {
    "scrolled": true
   },
   "outputs": [
    {
     "data": {
      "text/html": [
       "<div>\n",
       "<style scoped>\n",
       "    .dataframe tbody tr th:only-of-type {\n",
       "        vertical-align: middle;\n",
       "    }\n",
       "\n",
       "    .dataframe tbody tr th {\n",
       "        vertical-align: top;\n",
       "    }\n",
       "\n",
       "    .dataframe thead th {\n",
       "        text-align: right;\n",
       "    }\n",
       "</style>\n",
       "<table border=\"1\" class=\"dataframe\">\n",
       "  <thead>\n",
       "    <tr style=\"text-align: right;\">\n",
       "      <th></th>\n",
       "      <th>customer_id</th>\n",
       "      <th>create_time</th>\n",
       "      <th>wifi_id</th>\n",
       "    </tr>\n",
       "  </thead>\n",
       "  <tbody>\n",
       "    <tr>\n",
       "      <td>25830</td>\n",
       "      <td>107056</td>\n",
       "      <td>2020-09-04 16:44:55</td>\n",
       "      <td>00:67:62:6d:02:e8</td>\n",
       "    </tr>\n",
       "    <tr>\n",
       "      <td>38719</td>\n",
       "      <td>107056</td>\n",
       "      <td>2020-09-08 19:46:41</td>\n",
       "      <td>2e:ff:ee:92:a8:03</td>\n",
       "    </tr>\n",
       "    <tr>\n",
       "      <td>38720</td>\n",
       "      <td>107056</td>\n",
       "      <td>2020-09-08 19:46:41</td>\n",
       "      <td>74:da:88:38:7f:2a</td>\n",
       "    </tr>\n",
       "    <tr>\n",
       "      <td>25826</td>\n",
       "      <td>107056</td>\n",
       "      <td>2020-09-04 16:44:55</td>\n",
       "      <td>80:26:89:58:d9:6b</td>\n",
       "    </tr>\n",
       "    <tr>\n",
       "      <td>25823</td>\n",
       "      <td>107056</td>\n",
       "      <td>2020-09-04 16:44:55</td>\n",
       "      <td>90:f6:52:ac:c3:c2</td>\n",
       "    </tr>\n",
       "    <tr>\n",
       "      <td>...</td>\n",
       "      <td>...</td>\n",
       "      <td>...</td>\n",
       "      <td>...</td>\n",
       "    </tr>\n",
       "    <tr>\n",
       "      <td>19207</td>\n",
       "      <td>4410632</td>\n",
       "      <td>2020-09-23 05:38:49</td>\n",
       "      <td>e8:65:d4:36:ec:30</td>\n",
       "    </tr>\n",
       "    <tr>\n",
       "      <td>19206</td>\n",
       "      <td>4410632</td>\n",
       "      <td>2020-09-23 05:38:49</td>\n",
       "      <td>f0:b4:d2:81:30:e6</td>\n",
       "    </tr>\n",
       "    <tr>\n",
       "      <td>19199</td>\n",
       "      <td>4410632</td>\n",
       "      <td>2020-09-23 05:38:49</td>\n",
       "      <td>f4:1d:6b:a5:88:70</td>\n",
       "    </tr>\n",
       "    <tr>\n",
       "      <td>19202</td>\n",
       "      <td>4410632</td>\n",
       "      <td>2020-09-23 05:38:49</td>\n",
       "      <td>fc:a6:cd:96:cd:f8</td>\n",
       "    </tr>\n",
       "    <tr>\n",
       "      <td>19198</td>\n",
       "      <td>4410632</td>\n",
       "      <td>2020-09-23 05:38:49</td>\n",
       "      <td>fc:a6:cd:96:e5:e0</td>\n",
       "    </tr>\n",
       "  </tbody>\n",
       "</table>\n",
       "<p>58262 rows × 3 columns</p>\n",
       "</div>"
      ],
      "text/plain": [
       "       customer_id          create_time            wifi_id\n",
       "25830       107056  2020-09-04 16:44:55  00:67:62:6d:02:e8\n",
       "38719       107056  2020-09-08 19:46:41  2e:ff:ee:92:a8:03\n",
       "38720       107056  2020-09-08 19:46:41  74:da:88:38:7f:2a\n",
       "25826       107056  2020-09-04 16:44:55  80:26:89:58:d9:6b\n",
       "25823       107056  2020-09-04 16:44:55  90:f6:52:ac:c3:c2\n",
       "...            ...                  ...                ...\n",
       "19207      4410632  2020-09-23 05:38:49  e8:65:d4:36:ec:30\n",
       "19206      4410632  2020-09-23 05:38:49  f0:b4:d2:81:30:e6\n",
       "19199      4410632  2020-09-23 05:38:49  f4:1d:6b:a5:88:70\n",
       "19202      4410632  2020-09-23 05:38:49  fc:a6:cd:96:cd:f8\n",
       "19198      4410632  2020-09-23 05:38:49  fc:a6:cd:96:e5:e0\n",
       "\n",
       "[58262 rows x 3 columns]"
      ]
     },
     "execution_count": 91,
     "metadata": {},
     "output_type": "execute_result"
    }
   ],
   "source": [
    "wifi_list = pd.read_csv(os.path.join(directory,'wifi_list_id.csv'))\n",
    "wifi_list = wifi_list[['customer_id','create_time','wifi_list']]\n",
    "wifi_list = wifi_list.sort_values(['customer_id','wifi_list','create_time'])\n",
    "wifi_list = wifi_list.drop_duplicates(['customer_id','wifi_list'])\n",
    "wifi_list = wifi_list.rename(columns={'wifi_list':'wifi_id'})\n",
    "wifi_list"
   ]
  },
  {
   "cell_type": "code",
   "execution_count": 92,
   "metadata": {
    "scrolled": true
   },
   "outputs": [
    {
     "data": {
      "text/plain": [
       "(15405, 5)"
      ]
     },
     "execution_count": 92,
     "metadata": {},
     "output_type": "execute_result"
    }
   ],
   "source": [
    "user_wifi_list = pd.merge(users,wifi_list,how='inner',on='customer_id')\n",
    "user_wifi_list.shape"
   ]
  },
  {
   "cell_type": "code",
   "execution_count": 93,
   "metadata": {
    "scrolled": true
   },
   "outputs": [
    {
     "data": {
      "text/plain": [
       "(15405, 5)"
      ]
     },
     "execution_count": 93,
     "metadata": {},
     "output_type": "execute_result"
    }
   ],
   "source": [
    "user_wifi_list[user_wifi_list['trans_time']>user_wifi_list['create_time']].shape"
   ]
  },
  {
   "cell_type": "code",
   "execution_count": 94,
   "metadata": {},
   "outputs": [
    {
     "data": {
      "text/html": [
       "<div>\n",
       "<style scoped>\n",
       "    .dataframe tbody tr th:only-of-type {\n",
       "        vertical-align: middle;\n",
       "    }\n",
       "\n",
       "    .dataframe tbody tr th {\n",
       "        vertical-align: top;\n",
       "    }\n",
       "\n",
       "    .dataframe thead th {\n",
       "        text-align: right;\n",
       "    }\n",
       "</style>\n",
       "<table border=\"1\" class=\"dataframe\">\n",
       "  <thead>\n",
       "    <tr style=\"text-align: right;\">\n",
       "      <th></th>\n",
       "      <th>customer_id</th>\n",
       "      <th>trans_time</th>\n",
       "      <th>target</th>\n",
       "      <th>create_time</th>\n",
       "      <th>wifi_id</th>\n",
       "    </tr>\n",
       "  </thead>\n",
       "  <tbody>\n",
       "    <tr>\n",
       "      <td>0</td>\n",
       "      <td>4202015</td>\n",
       "      <td>2020-06-27 06:35:10</td>\n",
       "      <td>1</td>\n",
       "      <td>2020-06-24 16:22:09</td>\n",
       "      <td>0c:98:38:a9:f0:6d</td>\n",
       "    </tr>\n",
       "    <tr>\n",
       "      <td>1</td>\n",
       "      <td>4202015</td>\n",
       "      <td>2020-06-27 06:35:10</td>\n",
       "      <td>1</td>\n",
       "      <td>2020-06-24 16:22:09</td>\n",
       "      <td>0e:a8:a7:5d:ca:34</td>\n",
       "    </tr>\n",
       "    <tr>\n",
       "      <td>2</td>\n",
       "      <td>4202015</td>\n",
       "      <td>2020-06-27 06:35:10</td>\n",
       "      <td>1</td>\n",
       "      <td>2020-06-24 16:22:09</td>\n",
       "      <td>74:5b:c5:43:1f:9c</td>\n",
       "    </tr>\n",
       "    <tr>\n",
       "      <td>3</td>\n",
       "      <td>4202015</td>\n",
       "      <td>2020-06-27 06:35:10</td>\n",
       "      <td>1</td>\n",
       "      <td>2020-06-24 16:22:09</td>\n",
       "      <td>9a:c8:b8:90:5c:9b</td>\n",
       "    </tr>\n",
       "    <tr>\n",
       "      <td>4</td>\n",
       "      <td>4202015</td>\n",
       "      <td>2020-06-27 06:35:10</td>\n",
       "      <td>1</td>\n",
       "      <td>2020-06-24 16:22:09</td>\n",
       "      <td>f0:8c:fb:29:13:f0</td>\n",
       "    </tr>\n",
       "    <tr>\n",
       "      <td>...</td>\n",
       "      <td>...</td>\n",
       "      <td>...</td>\n",
       "      <td>...</td>\n",
       "      <td>...</td>\n",
       "      <td>...</td>\n",
       "    </tr>\n",
       "    <tr>\n",
       "      <td>15400</td>\n",
       "      <td>4235548</td>\n",
       "      <td>2020-07-17 11:35:05</td>\n",
       "      <td>1</td>\n",
       "      <td>2020-07-03 09:53:07</td>\n",
       "      <td>a0:ab:1b:70:ed:1c</td>\n",
       "    </tr>\n",
       "    <tr>\n",
       "      <td>15401</td>\n",
       "      <td>4235548</td>\n",
       "      <td>2020-07-17 11:35:05</td>\n",
       "      <td>1</td>\n",
       "      <td>2020-07-16 12:03:21</td>\n",
       "      <td>b4:e9:b0:9e:95:40</td>\n",
       "    </tr>\n",
       "    <tr>\n",
       "      <td>15402</td>\n",
       "      <td>4235548</td>\n",
       "      <td>2020-07-17 11:35:05</td>\n",
       "      <td>1</td>\n",
       "      <td>2020-07-16 12:03:21</td>\n",
       "      <td>b4:e9:b0:9e:95:4e</td>\n",
       "    </tr>\n",
       "    <tr>\n",
       "      <td>15403</td>\n",
       "      <td>4235548</td>\n",
       "      <td>2020-07-17 11:35:05</td>\n",
       "      <td>1</td>\n",
       "      <td>2020-07-16 12:03:21</td>\n",
       "      <td>b4:e9:b0:9e:95:4f</td>\n",
       "    </tr>\n",
       "    <tr>\n",
       "      <td>15404</td>\n",
       "      <td>4235548</td>\n",
       "      <td>2020-07-17 11:35:05</td>\n",
       "      <td>1</td>\n",
       "      <td>2020-07-03 09:53:07</td>\n",
       "      <td>e4:ca:12:cd:e8:15</td>\n",
       "    </tr>\n",
       "  </tbody>\n",
       "</table>\n",
       "<p>15405 rows × 5 columns</p>\n",
       "</div>"
      ],
      "text/plain": [
       "       customer_id           trans_time  target          create_time  \\\n",
       "0          4202015  2020-06-27 06:35:10       1  2020-06-24 16:22:09   \n",
       "1          4202015  2020-06-27 06:35:10       1  2020-06-24 16:22:09   \n",
       "2          4202015  2020-06-27 06:35:10       1  2020-06-24 16:22:09   \n",
       "3          4202015  2020-06-27 06:35:10       1  2020-06-24 16:22:09   \n",
       "4          4202015  2020-06-27 06:35:10       1  2020-06-24 16:22:09   \n",
       "...            ...                  ...     ...                  ...   \n",
       "15400      4235548  2020-07-17 11:35:05       1  2020-07-03 09:53:07   \n",
       "15401      4235548  2020-07-17 11:35:05       1  2020-07-16 12:03:21   \n",
       "15402      4235548  2020-07-17 11:35:05       1  2020-07-16 12:03:21   \n",
       "15403      4235548  2020-07-17 11:35:05       1  2020-07-16 12:03:21   \n",
       "15404      4235548  2020-07-17 11:35:05       1  2020-07-03 09:53:07   \n",
       "\n",
       "                 wifi_id  \n",
       "0      0c:98:38:a9:f0:6d  \n",
       "1      0e:a8:a7:5d:ca:34  \n",
       "2      74:5b:c5:43:1f:9c  \n",
       "3      9a:c8:b8:90:5c:9b  \n",
       "4      f0:8c:fb:29:13:f0  \n",
       "...                  ...  \n",
       "15400  a0:ab:1b:70:ed:1c  \n",
       "15401  b4:e9:b0:9e:95:40  \n",
       "15402  b4:e9:b0:9e:95:4e  \n",
       "15403  b4:e9:b0:9e:95:4f  \n",
       "15404  e4:ca:12:cd:e8:15  \n",
       "\n",
       "[15405 rows x 5 columns]"
      ]
     },
     "execution_count": 94,
     "metadata": {},
     "output_type": "execute_result"
    }
   ],
   "source": [
    "user_wifi_list"
   ]
  },
  {
   "cell_type": "code",
   "execution_count": 95,
   "metadata": {},
   "outputs": [],
   "source": [
    "distinct_users_in_relation = wifi_list['customer_id'].unique()\n",
    "distinct_wifi_in_relation = wifi_list['wifi_id'].unique()\n",
    "users = users[users['customer_id'].isin(distinct_users_in_relation)]\n",
    "wifi_list = wifi_list[wifi_list['wifi_id'].isin(distinct_wifi_in_relation)]"
   ]
  },
  {
   "cell_type": "code",
   "execution_count": 97,
   "metadata": {},
   "outputs": [
    {
     "data": {
      "text/plain": [
       "(1970, 3)"
      ]
     },
     "execution_count": 97,
     "metadata": {},
     "output_type": "execute_result"
    }
   ],
   "source": [
    "users.shape"
   ]
  },
  {
   "cell_type": "code",
   "execution_count": 98,
   "metadata": {},
   "outputs": [
    {
     "data": {
      "text/plain": [
       "1    1713\n",
       "0     257\n",
       "Name: target, dtype: int64"
      ]
     },
     "execution_count": 98,
     "metadata": {},
     "output_type": "execute_result"
    }
   ],
   "source": [
    "users.target.value_counts()"
   ]
  },
  {
   "cell_type": "code",
   "execution_count": 99,
   "metadata": {},
   "outputs": [
    {
     "data": {
      "text/plain": [
       "0.1304568527918782"
      ]
     },
     "execution_count": 99,
     "metadata": {},
     "output_type": "execute_result"
    }
   ],
   "source": [
    "users.target.value_counts().loc[0]/users.shape[0]"
   ]
  },
  {
   "cell_type": "code",
   "execution_count": 59,
   "metadata": {},
   "outputs": [
    {
     "data": {
      "text/plain": [
       "(58262, 3)"
      ]
     },
     "execution_count": 59,
     "metadata": {},
     "output_type": "execute_result"
    }
   ],
   "source": [
    "wifi_list.shape"
   ]
  },
  {
   "cell_type": "code",
   "execution_count": 70,
   "metadata": {},
   "outputs": [
    {
     "data": {
      "text/plain": [
       "(57620, 3)"
      ]
     },
     "execution_count": 70,
     "metadata": {},
     "output_type": "execute_result"
    }
   ],
   "source": [
    "wifi_list.drop_duplicates('wifi_id').shape"
   ]
  },
  {
   "cell_type": "code",
   "execution_count": 71,
   "metadata": {
    "scrolled": true
   },
   "outputs": [
    {
     "data": {
      "text/html": [
       "<div>\n",
       "<style scoped>\n",
       "    .dataframe tbody tr th:only-of-type {\n",
       "        vertical-align: middle;\n",
       "    }\n",
       "\n",
       "    .dataframe tbody tr th {\n",
       "        vertical-align: top;\n",
       "    }\n",
       "\n",
       "    .dataframe thead th {\n",
       "        text-align: right;\n",
       "    }\n",
       "</style>\n",
       "<table border=\"1\" class=\"dataframe\">\n",
       "  <thead>\n",
       "    <tr style=\"text-align: right;\">\n",
       "      <th></th>\n",
       "      <th>customer_id</th>\n",
       "      <th>create_time</th>\n",
       "      <th>wifi_id</th>\n",
       "    </tr>\n",
       "  </thead>\n",
       "  <tbody>\n",
       "    <tr>\n",
       "      <td>25830</td>\n",
       "      <td>107056</td>\n",
       "      <td>2020-09-04 16:44:55</td>\n",
       "      <td>00:67:62:6d:02:e8</td>\n",
       "    </tr>\n",
       "    <tr>\n",
       "      <td>38719</td>\n",
       "      <td>107056</td>\n",
       "      <td>2020-09-08 19:46:41</td>\n",
       "      <td>2e:ff:ee:92:a8:03</td>\n",
       "    </tr>\n",
       "    <tr>\n",
       "      <td>38720</td>\n",
       "      <td>107056</td>\n",
       "      <td>2020-09-08 19:46:41</td>\n",
       "      <td>74:da:88:38:7f:2a</td>\n",
       "    </tr>\n",
       "    <tr>\n",
       "      <td>25826</td>\n",
       "      <td>107056</td>\n",
       "      <td>2020-09-04 16:44:55</td>\n",
       "      <td>80:26:89:58:d9:6b</td>\n",
       "    </tr>\n",
       "    <tr>\n",
       "      <td>25823</td>\n",
       "      <td>107056</td>\n",
       "      <td>2020-09-04 16:44:55</td>\n",
       "      <td>90:f6:52:ac:c3:c2</td>\n",
       "    </tr>\n",
       "    <tr>\n",
       "      <td>...</td>\n",
       "      <td>...</td>\n",
       "      <td>...</td>\n",
       "      <td>...</td>\n",
       "    </tr>\n",
       "    <tr>\n",
       "      <td>19207</td>\n",
       "      <td>4410632</td>\n",
       "      <td>2020-09-23 05:38:49</td>\n",
       "      <td>e8:65:d4:36:ec:30</td>\n",
       "    </tr>\n",
       "    <tr>\n",
       "      <td>19206</td>\n",
       "      <td>4410632</td>\n",
       "      <td>2020-09-23 05:38:49</td>\n",
       "      <td>f0:b4:d2:81:30:e6</td>\n",
       "    </tr>\n",
       "    <tr>\n",
       "      <td>19199</td>\n",
       "      <td>4410632</td>\n",
       "      <td>2020-09-23 05:38:49</td>\n",
       "      <td>f4:1d:6b:a5:88:70</td>\n",
       "    </tr>\n",
       "    <tr>\n",
       "      <td>19202</td>\n",
       "      <td>4410632</td>\n",
       "      <td>2020-09-23 05:38:49</td>\n",
       "      <td>fc:a6:cd:96:cd:f8</td>\n",
       "    </tr>\n",
       "    <tr>\n",
       "      <td>19198</td>\n",
       "      <td>4410632</td>\n",
       "      <td>2020-09-23 05:38:49</td>\n",
       "      <td>fc:a6:cd:96:e5:e0</td>\n",
       "    </tr>\n",
       "  </tbody>\n",
       "</table>\n",
       "<p>58262 rows × 3 columns</p>\n",
       "</div>"
      ],
      "text/plain": [
       "       customer_id          create_time            wifi_id\n",
       "25830       107056  2020-09-04 16:44:55  00:67:62:6d:02:e8\n",
       "38719       107056  2020-09-08 19:46:41  2e:ff:ee:92:a8:03\n",
       "38720       107056  2020-09-08 19:46:41  74:da:88:38:7f:2a\n",
       "25826       107056  2020-09-04 16:44:55  80:26:89:58:d9:6b\n",
       "25823       107056  2020-09-04 16:44:55  90:f6:52:ac:c3:c2\n",
       "...            ...                  ...                ...\n",
       "19207      4410632  2020-09-23 05:38:49  e8:65:d4:36:ec:30\n",
       "19206      4410632  2020-09-23 05:38:49  f0:b4:d2:81:30:e6\n",
       "19199      4410632  2020-09-23 05:38:49  f4:1d:6b:a5:88:70\n",
       "19202      4410632  2020-09-23 05:38:49  fc:a6:cd:96:cd:f8\n",
       "19198      4410632  2020-09-23 05:38:49  fc:a6:cd:96:e5:e0\n",
       "\n",
       "[58262 rows x 3 columns]"
      ]
     },
     "execution_count": 71,
     "metadata": {},
     "output_type": "execute_result"
    }
   ],
   "source": [
    "wifi_list"
   ]
  },
  {
   "cell_type": "code",
   "execution_count": 61,
   "metadata": {},
   "outputs": [
    {
     "name": "stdout",
     "output_type": "stream",
     "text": [
      "6        4202015\n",
      "16       4291583\n",
      "22        880193\n",
      "23       4148588\n",
      "34       4220955\n",
      "          ...   \n",
      "12079    4121737\n",
      "12084    4119054\n",
      "12088    1315610\n",
      "12091    4286858\n",
      "12102    4235548\n",
      "Name: customer_id, Length: 1970, dtype: category\n",
      "Categories (1970, int64): [152917, 160937, 173091, 174326, ..., 4291897, 4291937, 4291980, 4291982]\n"
     ]
    }
   ],
   "source": [
    "entities = users['customer_id'].astype('category')\n",
    "print(entities)\n",
    "if not (entities.value_counts() == 1).all():\n",
    "    raise ValueError('Different entity with the same primary key detected.')"
   ]
  },
  {
   "cell_type": "code",
   "execution_count": 69,
   "metadata": {
    "scrolled": true
   },
   "outputs": [
    {
     "name": "stdout",
     "output_type": "stream",
     "text": [
      "25830    00:67:62:6d:02:e8\n",
      "38719    2e:ff:ee:92:a8:03\n",
      "38720    74:da:88:38:7f:2a\n",
      "25826    80:26:89:58:d9:6b\n",
      "25823    90:f6:52:ac:c3:c2\n",
      "               ...        \n",
      "19207    e8:65:d4:36:ec:30\n",
      "19206    f0:b4:d2:81:30:e6\n",
      "19199    f4:1d:6b:a5:88:70\n",
      "19202    fc:a6:cd:96:cd:f8\n",
      "19198    fc:a6:cd:96:e5:e0\n",
      "Name: wifi_id, Length: 58262, dtype: category\n",
      "Categories (57620, object): [00:00:00:00:00:00, 00:01:23:01:4c:d0, 00:01:23:05:7e:08, 00:01:23:05:7f:a0, ..., fe:ec:da:f2:5b:f3, fe:ec:da:f2:5e:9f, fe:ec:da:f2:9f:17, fe:f9:d5:35:d9:5d]\n"
     ]
    },
    {
     "ename": "ValueError",
     "evalue": "Different entity with the same primary key detected.",
     "output_type": "error",
     "traceback": [
      "\u001b[1;31m---------------------------------------------------------------------------\u001b[0m",
      "\u001b[1;31mValueError\u001b[0m                                Traceback (most recent call last)",
      "\u001b[1;32m<ipython-input-69-0caee4d313b8>\u001b[0m in \u001b[0;36m<module>\u001b[1;34m\u001b[0m\n\u001b[0;32m      2\u001b[0m \u001b[0mprint\u001b[0m\u001b[1;33m(\u001b[0m\u001b[0mentities\u001b[0m\u001b[1;33m)\u001b[0m\u001b[1;33m\u001b[0m\u001b[1;33m\u001b[0m\u001b[0m\n\u001b[0;32m      3\u001b[0m \u001b[1;32mif\u001b[0m \u001b[1;32mnot\u001b[0m \u001b[1;33m(\u001b[0m\u001b[0mentities\u001b[0m\u001b[1;33m.\u001b[0m\u001b[0mvalue_counts\u001b[0m\u001b[1;33m(\u001b[0m\u001b[1;33m)\u001b[0m \u001b[1;33m==\u001b[0m \u001b[1;36m1\u001b[0m\u001b[1;33m)\u001b[0m\u001b[1;33m.\u001b[0m\u001b[0mall\u001b[0m\u001b[1;33m(\u001b[0m\u001b[1;33m)\u001b[0m\u001b[1;33m:\u001b[0m\u001b[1;33m\u001b[0m\u001b[1;33m\u001b[0m\u001b[0m\n\u001b[1;32m----> 4\u001b[1;33m     \u001b[1;32mraise\u001b[0m \u001b[0mValueError\u001b[0m\u001b[1;33m(\u001b[0m\u001b[1;34m'Different entity with the same primary key detected.'\u001b[0m\u001b[1;33m)\u001b[0m\u001b[1;33m\u001b[0m\u001b[1;33m\u001b[0m\u001b[0m\n\u001b[0m",
      "\u001b[1;31mValueError\u001b[0m: Different entity with the same primary key detected."
     ]
    }
   ],
   "source": [
    "entities = wifi_list['wifi_id'].astype('category')\n",
    "print(entities)\n",
    "if not (entities.value_counts() == 1).all():\n",
    "    raise ValueError('Different entity with the same primary key detected.')"
   ]
  },
  {
   "cell_type": "code",
   "execution_count": null,
   "metadata": {},
   "outputs": [],
   "source": []
  },
  {
   "cell_type": "code",
   "execution_count": null,
   "metadata": {},
   "outputs": [],
   "source": []
  },
  {
   "cell_type": "code",
   "execution_count": 74,
   "metadata": {},
   "outputs": [
    {
     "ename": "ModuleNotFoundError",
     "evalue": "No module named 'utils'",
     "output_type": "error",
     "traceback": [
      "\u001b[1;31m---------------------------------------------------------------------------\u001b[0m",
      "\u001b[1;31mModuleNotFoundError\u001b[0m                       Traceback (most recent call last)",
      "\u001b[1;32m<ipython-input-74-8039dc3c82c2>\u001b[0m in \u001b[0;36m<module>\u001b[1;34m\u001b[0m\n\u001b[0;32m     13\u001b[0m \u001b[1;32mimport\u001b[0m \u001b[0mtqdm\u001b[0m\u001b[1;33m\u001b[0m\u001b[1;33m\u001b[0m\u001b[0m\n\u001b[0;32m     14\u001b[0m \u001b[1;33m\u001b[0m\u001b[0m\n\u001b[1;32m---> 15\u001b[1;33m \u001b[1;32mfrom\u001b[0m \u001b[0mutils\u001b[0m \u001b[1;32mimport\u001b[0m \u001b[0mthread_wrapped_func\u001b[0m\u001b[1;33m\u001b[0m\u001b[1;33m\u001b[0m\u001b[0m\n\u001b[0m\u001b[0;32m     16\u001b[0m \u001b[1;32mfrom\u001b[0m \u001b[0mload_graph\u001b[0m \u001b[1;32mimport\u001b[0m \u001b[0mload_reddit\u001b[0m\u001b[1;33m,\u001b[0m \u001b[0minductive_split\u001b[0m\u001b[1;33m\u001b[0m\u001b[1;33m\u001b[0m\u001b[0m\n\u001b[0;32m     17\u001b[0m \u001b[1;33m\u001b[0m\u001b[0m\n",
      "\u001b[1;31mModuleNotFoundError\u001b[0m: No module named 'utils'"
     ]
    }
   ],
   "source": [
    "import dgl\n",
    "import numpy as np\n",
    "import torch as th\n",
    "import torch.nn as nn\n",
    "import torch.nn.functional as F\n",
    "import torch.optim as optim\n",
    "import torch.multiprocessing as mp\n",
    "import dgl.nn.pytorch as dglnn\n",
    "import time\n",
    "import math\n",
    "import argparse\n",
    "from torch.nn.parallel import DistributedDataParallel\n",
    "import tqdm\n",
    "\n",
    "from utils import thread_wrapped_func\n",
    "from load_graph import load_reddit, inductive_split\n",
    "\n",
    "class SAGE(nn.Module):\n",
    "    def __init__(self,\n",
    "                 in_feats,\n",
    "                 n_hidden,\n",
    "                 n_classes,\n",
    "                 n_layers,\n",
    "                 activation,\n",
    "                 dropout):\n",
    "        super().__init__()\n",
    "        self.n_layers = n_layers\n",
    "        self.n_hidden = n_hidden\n",
    "        self.n_classes = n_classes\n",
    "        self.layers = nn.ModuleList()\n",
    "        self.layers.append(dglnn.SAGEConv(in_feats, n_hidden, 'mean'))\n",
    "        for i in range(1, n_layers - 1):\n",
    "            self.layers.append(dglnn.SAGEConv(n_hidden, n_hidden, 'mean'))\n",
    "        self.layers.append(dglnn.SAGEConv(n_hidden, n_classes, 'mean'))\n",
    "        self.dropout = nn.Dropout(dropout)\n",
    "        self.activation = activation\n",
    "\n",
    "    def forward(self, blocks, x):\n",
    "        h = x\n",
    "        for l, (layer, block) in enumerate(zip(self.layers, blocks)):\n",
    "            h = layer(block, h)\n",
    "            if l != len(self.layers) - 1:\n",
    "                h = self.activation(h)\n",
    "                h = self.dropout(h)\n",
    "        return h\n",
    "\n",
    "    def inference(self, g, x, device):\n",
    "        \"\"\"\n",
    "        Inference with the GraphSAGE model on full neighbors (i.e. without neighbor sampling).\n",
    "        g : the entire graph.\n",
    "        x : the input of entire node set.\n",
    "        The inference code is written in a fashion that it could handle any number of nodes and\n",
    "        layers.\n",
    "        \"\"\"\n",
    "        # During inference with sampling, multi-layer blocks are very inefficient because\n",
    "        # lots of computations in the first few layers are repeated.\n",
    "        # Therefore, we compute the representation of all nodes layer by layer.  The nodes\n",
    "        # on each layer are of course splitted in batches.\n",
    "        # TODO: can we standardize this?\n",
    "        for l, layer in enumerate(self.layers):\n",
    "            y = th.zeros(g.num_nodes(), self.n_hidden if l != len(self.layers) - 1 else self.n_classes)\n",
    "\n",
    "            sampler = dgl.dataloading.MultiLayerFullNeighborSampler(1)\n",
    "            dataloader = dgl.dataloading.NodeDataLoader(\n",
    "                g,\n",
    "                th.arange(g.num_nodes()),\n",
    "                sampler,\n",
    "                batch_size=args.batch_size,\n",
    "                shuffle=True,\n",
    "                drop_last=False,\n",
    "                num_workers=args.num_workers)\n",
    "\n",
    "            for input_nodes, output_nodes, blocks in tqdm.tqdm(dataloader):\n",
    "                block = blocks[0]\n",
    "\n",
    "                block = block.int().to(device)\n",
    "                h = x[input_nodes].to(device)\n",
    "                h = layer(block, h)\n",
    "                if l != len(self.layers) - 1:\n",
    "                    h = self.activation(h)\n",
    "                    h = self.dropout(h)\n",
    "\n",
    "                y[output_nodes] = h.cpu()\n",
    "\n",
    "            x = y\n",
    "        return y\n",
    "\n",
    "def compute_acc(pred, labels):\n",
    "    \"\"\"\n",
    "    Compute the accuracy of prediction given the labels.\n",
    "    \"\"\"\n",
    "    return (th.argmax(pred, dim=1) == labels).float().sum() / len(pred)\n",
    "\n",
    "def evaluate(model, g, nfeat, labels, val_nid, device):\n",
    "    \"\"\"\n",
    "    Evaluate the model on the validation set specified by ``val_nid``.\n",
    "    g : The entire graph.\n",
    "    inputs : The features of all the nodes.\n",
    "    labels : The labels of all the nodes.\n",
    "    val_nid : A node ID tensor indicating which nodes do we actually compute the accuracy for.\n",
    "    device : The GPU device to evaluate on.\n",
    "    \"\"\"\n",
    "    model.eval()\n",
    "    with th.no_grad():\n",
    "        pred = model.inference(g, nfeat, device)\n",
    "    model.train()\n",
    "    return compute_acc(pred[val_nid], labels[val_nid])\n",
    "\n",
    "def load_subtensor(nfeat, labels, seeds, input_nodes, dev_id):\n",
    "    \"\"\"\n",
    "    Extracts features and labels for a subset of nodes.\n",
    "    \"\"\"\n",
    "    batch_inputs = nfeat[input_nodes].to(dev_id)\n",
    "    batch_labels = labels[seeds].to(dev_id)\n",
    "    return batch_inputs, batch_labels\n",
    "\n",
    "#### Entry point\n",
    "\n",
    "def run(proc_id, n_gpus, args, devices, data):\n",
    "    # Start up distributed training, if enabled.\n",
    "    dev_id = devices[proc_id]\n",
    "    if n_gpus > 1:\n",
    "        dist_init_method = 'tcp://{master_ip}:{master_port}'.format(\n",
    "            master_ip='127.0.0.1', master_port='12345')\n",
    "        world_size = n_gpus\n",
    "        th.distributed.init_process_group(backend=\"nccl\",\n",
    "                                          init_method=dist_init_method,\n",
    "                                          world_size=world_size,\n",
    "                                          rank=proc_id)\n",
    "    th.cuda.set_device(dev_id)\n",
    "\n",
    "    # Unpack data\n",
    "    n_classes, train_g, val_g, test_g = data\n",
    "\n",
    "    if args.inductive:\n",
    "        train_nfeat = train_g.ndata.pop('features')\n",
    "        val_nfeat = val_g.ndata.pop('features')\n",
    "        test_nfeat = test_g.ndata.pop('features')\n",
    "        train_labels = train_g.ndata.pop('labels')\n",
    "        val_labels = val_g.ndata.pop('labels')\n",
    "        test_labels = test_g.ndata.pop('labels')\n",
    "    else:\n",
    "        train_nfeat = val_nfeat = test_nfeat = g.ndata.pop('features')\n",
    "        train_labels = val_labels = test_labels = g.ndata.pop('labels')\n",
    "\n",
    "    if not args.data_cpu:\n",
    "        train_nfeat = train_nfeat.to(dev_id)\n",
    "        train_labels = train_labels.to(dev_id)\n",
    "\n",
    "    in_feats = train_nfeat.shape[1]\n",
    "\n",
    "    train_mask = train_g.ndata['train_mask']\n",
    "    val_mask = val_g.ndata['val_mask']\n",
    "    test_mask = ~(test_g.ndata['train_mask'] | test_g.ndata['val_mask'])\n",
    "    train_nid = train_mask.nonzero().squeeze()\n",
    "    val_nid = val_mask.nonzero().squeeze()\n",
    "    test_nid = test_mask.nonzero().squeeze()\n",
    "\n",
    "    # Split train_nid\n",
    "    train_nid = th.split(train_nid, math.ceil(len(train_nid) / n_gpus))[proc_id]\n",
    "\n",
    "    # Create PyTorch DataLoader for constructing blocks\n",
    "    sampler = dgl.dataloading.MultiLayerNeighborSampler(\n",
    "        [int(fanout) for fanout in args.fan_out.split(',')])\n",
    "    dataloader = dgl.dataloading.NodeDataLoader(\n",
    "        train_g,\n",
    "        train_nid,\n",
    "        sampler,\n",
    "        batch_size=args.batch_size,\n",
    "        shuffle=True,\n",
    "        drop_last=False,\n",
    "        num_workers=args.num_workers)\n",
    "\n",
    "    # Define model and optimizer\n",
    "    model = SAGE(in_feats, args.num_hidden, n_classes, args.num_layers, F.relu, args.dropout)\n",
    "    model = model.to(dev_id)\n",
    "    if n_gpus > 1:\n",
    "        model = DistributedDataParallel(model, device_ids=[dev_id], output_device=dev_id)\n",
    "    loss_fcn = nn.CrossEntropyLoss()\n",
    "    optimizer = optim.Adam(model.parameters(), lr=args.lr)\n",
    "\n",
    "    # Training loop\n",
    "    avg = 0\n",
    "    iter_tput = []\n",
    "    for epoch in range(args.num_epochs):\n",
    "        tic = time.time()\n",
    "\n",
    "        # Loop over the dataloader to sample the computation dependency graph as a list of\n",
    "        # blocks.\n",
    "        for step, (input_nodes, seeds, blocks) in enumerate(dataloader):\n",
    "            if proc_id == 0:\n",
    "                tic_step = time.time()\n",
    "\n",
    "            # Load the input features as well as output labels\n",
    "            batch_inputs, batch_labels = load_subtensor(train_nfeat, train_labels,\n",
    "                                                        seeds, input_nodes, dev_id)\n",
    "            blocks = [block.int().to(dev_id) for block in blocks]\n",
    "            # Compute loss and prediction\n",
    "            batch_pred = model(blocks, batch_inputs)\n",
    "            loss = loss_fcn(batch_pred, batch_labels)\n",
    "            optimizer.zero_grad()\n",
    "            loss.backward()\n",
    "            optimizer.step()\n",
    "\n",
    "            if proc_id == 0:\n",
    "                iter_tput.append(len(seeds) * n_gpus / (time.time() - tic_step))\n",
    "            if step % args.log_every == 0 and proc_id == 0:\n",
    "                acc = compute_acc(batch_pred, batch_labels)\n",
    "                print('Epoch {:05d} | Step {:05d} | Loss {:.4f} | Train Acc {:.4f} | Speed (samples/sec) {:.4f} | GPU {:.1f} MB'.format(\n",
    "                    epoch, step, loss.item(), acc.item(), np.mean(iter_tput[3:]), th.cuda.max_memory_allocated() / 1000000))\n",
    "\n",
    "        if n_gpus > 1:\n",
    "            th.distributed.barrier()\n",
    "\n",
    "        toc = time.time()\n",
    "        if proc_id == 0:\n",
    "            print('Epoch Time(s): {:.4f}'.format(toc - tic))\n",
    "            if epoch >= 5:\n",
    "                avg += toc - tic\n",
    "            if epoch % args.eval_every == 0 and epoch != 0:\n",
    "                if n_gpus == 1:\n",
    "                    eval_acc = evaluate(\n",
    "                        model, val_g, val_nfeat, val_labels, val_nid, devices[0])\n",
    "                    test_acc = evaluate(\n",
    "                        model, test_g, test_nfeat, test_labels, test_nid, devices[0])\n",
    "                else:\n",
    "                    eval_acc = evaluate(\n",
    "                        model.module, val_g, val_nfeat, val_labels, val_nid, devices[0])\n",
    "                    test_acc = evaluate(\n",
    "                        model.module, test_g, test_nfeat, test_labels, test_nid, devices[0])\n",
    "                print('Eval Acc {:.4f}'.format(eval_acc))\n",
    "                print('Test Acc: {:.4f}'.format(test_acc))\n",
    "\n",
    "\n",
    "    if n_gpus > 1:\n",
    "        th.distributed.barrier()\n",
    "    if proc_id == 0:\n",
    "        print('Avg epoch time: {}'.format(avg / (epoch - 4)))\n",
    "\n",
    "if __name__ == '__main__':\n",
    "    argparser = argparse.ArgumentParser(\"multi-gpu training\")\n",
    "    argparser.add_argument('--gpu', type=str, default='0',\n",
    "                           help=\"Comma separated list of GPU device IDs.\")\n",
    "    argparser.add_argument('--num-epochs', type=int, default=20)\n",
    "    argparser.add_argument('--num-hidden', type=int, default=16)\n",
    "    argparser.add_argument('--num-layers', type=int, default=2)\n",
    "    argparser.add_argument('--fan-out', type=str, default='10,25')\n",
    "    argparser.add_argument('--batch-size', type=int, default=1000)\n",
    "    argparser.add_argument('--log-every', type=int, default=20)\n",
    "    argparser.add_argument('--eval-every', type=int, default=5)\n",
    "    argparser.add_argument('--lr', type=float, default=0.003)\n",
    "    argparser.add_argument('--dropout', type=float, default=0.5)\n",
    "    argparser.add_argument('--num-workers', type=int, default=0,\n",
    "                           help=\"Number of sampling processes. Use 0 for no extra process.\")\n",
    "    argparser.add_argument('--inductive', action='store_true',\n",
    "                           help=\"Inductive learning setting\")\n",
    "    argparser.add_argument('--data-cpu', action='store_true',\n",
    "                           help=\"By default the script puts all node features and labels \"\n",
    "                                \"on GPU when using it to save time for data copy. This may \"\n",
    "                                \"be undesired if they cannot fit in GPU memory at once. \"\n",
    "                                \"This flag disables that.\")\n",
    "    args = argparser.parse_args()\n",
    "    \n",
    "    devices = list(map(int, args.gpu.split(',')))\n",
    "    n_gpus = len(devices)\n",
    "\n",
    "    g, n_classes = load_reddit()\n",
    "    # Construct graph\n",
    "    g = dgl.as_heterograph(g)\n",
    "\n",
    "    if args.inductive:\n",
    "        train_g, val_g, test_g = inductive_split(g)\n",
    "    else:\n",
    "        train_g = val_g = test_g = g\n",
    "\n",
    "    # Create csr/coo/csc formats before launching training processes with multi-gpu.\n",
    "    # This avoids creating certain formats in each sub-process, which saves momory and CPU.\n",
    "    train_g.create_formats_()\n",
    "    val_g.create_formats_()\n",
    "    test_g.create_formats_()\n",
    "    # Pack data\n",
    "    data = n_classes, train_g, val_g, test_g\n",
    "\n",
    "    if n_gpus == 1:\n",
    "        run(0, n_gpus, args, devices, data)\n",
    "    else:\n",
    "        procs = []\n",
    "        for proc_id in range(n_gpus):\n",
    "            p = mp.Process(target=thread_wrapped_func(run),\n",
    "                           args=(proc_id, n_gpus, args, devices, data))\n",
    "            p.start()\n",
    "            procs.append(p)\n",
    "        for p in procs:\n",
    "            p.join()\n"
   ]
  }
 ],
 "metadata": {
  "kernelspec": {
   "display_name": "Python 3",
   "language": "python",
   "name": "python3"
  },
  "language_info": {
   "codemirror_mode": {
    "name": "ipython",
    "version": 3
   },
   "file_extension": ".py",
   "mimetype": "text/x-python",
   "name": "python",
   "nbconvert_exporter": "python",
   "pygments_lexer": "ipython3",
   "version": "3.7.4"
  }
 },
 "nbformat": 4,
 "nbformat_minor": 2
}
